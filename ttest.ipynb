{
 "cells": [
  {
   "cell_type": "markdown",
   "id": "1995e57e",
   "metadata": {},
   "source": [
    "# Objectifs"
   ]
  },
  {
   "cell_type": "markdown",
   "id": "07119af7",
   "metadata": {},
   "source": [
    "Les objectifs de la lecon sont les suivants:\n",
    "* Enoncer H0 et H1 pour chaque test\n",
    "* Calculer en Python les p-valeurs\n",
    "* Interpréter les résultats"
   ]
  },
  {
   "cell_type": "markdown",
   "id": "d7ca1f55",
   "metadata": {},
   "source": [
    "# Importer les librairies"
   ]
  },
  {
   "cell_type": "code",
   "execution_count": null,
   "id": "bc99fcee",
   "metadata": {},
   "outputs": [],
   "source": [
    "import pandas as pd\n",
    "from scipy import stats\n",
    "\n",
    "# Data\n",
    "from sklearn import datasets\n",
    "\n",
    "# Visualisation\n",
    "import seaborn as sns\n",
    "import matplotlib.pyplot as plt"
   ]
  },
  {
   "cell_type": "code",
   "execution_count": null,
   "id": "2c4c18fb",
   "metadata": {},
   "outputs": [],
   "source": [
    "# Loader les données\n",
    "iris = datasets.load_iris()\n",
    "\n",
    "# Obtenir les features\n",
    "features = pd.DataFrame(\n",
    "    data=iris.data,\n",
    "    columns=iris.feature_names\n",
    ")\n",
    "# Obtenir la target\n",
    "target = pd.DataFrame(\n",
    "    data=iris.target,\n",
    "    columns=[\"species\"]\n",
    ")\n",
    "def target_converter(sp):\n",
    "    \"\"\"Apply strings to integers for the targets.\"\"\"\n",
    "    if sp == 0:\n",
    "        return \"setosa\"\n",
    "    elif sp == 1:\n",
    "        return \"versicolor\"\n",
    "    else:\n",
    "        return \"virginica\"\n",
    "target[\"species\"] = target[\"species\"].apply(target_converter)\n",
    "\n",
    "# Concaténer les features et la target dans une meme dataframe\n",
    "data = pd.concat([features, target], axis=1)\n",
    "\n",
    "data"
   ]
  },
  {
   "cell_type": "code",
   "execution_count": null,
   "id": "d9796231",
   "metadata": {},
   "outputs": [],
   "source": [
    "# Split les data\n",
    "setosa = data[data[\"species\"] == \"setosa\"]\n",
    "versicolor = data[data[\"species\"] == \"versicolor\"]\n",
    "virginica = data[data[\"species\"] == \"virginica\"]"
   ]
  },
  {
   "cell_type": "markdown",
   "id": "083e41fb",
   "metadata": {},
   "source": [
    "# EDA rapide"
   ]
  },
  {
   "cell_type": "code",
   "execution_count": null,
   "id": "5fb4befd",
   "metadata": {},
   "outputs": [],
   "source": [
    "# Quelques statistiques\n",
    "print(\"Setosa:\")\n",
    "display(setosa.describe())\n",
    "\n",
    "print(\"Versicolor:\")\n",
    "display(versicolor.describe())\n",
    "\n",
    "print(\"Virginica:\")\n",
    "display(virginica.describe())"
   ]
  },
  {
   "cell_type": "code",
   "execution_count": null,
   "id": "4610cdb9",
   "metadata": {
    "scrolled": false
   },
   "outputs": [],
   "source": [
    "# Quelques visualisations\n",
    "for col in data.drop(columns=[\"species\"]):\n",
    "    sns.displot(\n",
    "        data=data,\n",
    "        x=col,\n",
    "        hue=\"species\",\n",
    "        kind=\"kde\"\n",
    "    )\n",
    "    plt.show()"
   ]
  },
  {
   "cell_type": "markdown",
   "id": "6b90060a",
   "metadata": {},
   "source": [
    "# Two-sample t-test"
   ]
  },
  {
   "cell_type": "markdown",
   "id": "852ec1c1",
   "metadata": {},
   "source": [
    "Rappel de la formule pour calculer la statistique t pour 2 échantillons:\n",
    "$$ t = \\frac{(\\bar{X_1} - \\bar{X_2}) - (\\mu_1 - \\mu_2)}{\\sqrt{\\frac{s_{1}^2}{n_1} + \\frac{s_{2}^2}{n_2}}} $$\n",
    "et les *degrés de libertés* de la loi $t$ de Student sont le plus petit de $n_{1}-1$ et $n_{2}-1$ "
   ]
  },
  {
   "cell_type": "markdown",
   "id": "439b9899",
   "metadata": {},
   "source": [
    "La fonction [`stats.ttest_ind`](https://docs.scipy.org/doc/scipy/reference/generated/scipy.stats.ttest_ind.html) de SciPy permet de faire ce t-test de façon automatique en une ligne."
   ]
  },
  {
   "cell_type": "markdown",
   "id": "23a58229",
   "metadata": {},
   "source": [
    "## Hypothèse 1: La longueur de sépale moyenne de la versicolor est égale à la longueur de sépale moyenne de la virginica"
   ]
  },
  {
   "cell_type": "markdown",
   "id": "0dc79800",
   "metadata": {},
   "source": [
    "$H_0: \\mu_{\\text{longueur_moyenne_sepale_versicolor}} = \\mu_{\\text{longueur_moyenne_sepale_virginica}}$, $H_1: \\mu_{\\text{longueur_moyenne_sepale_versicolor}} \\ne \\mu_{\\text{longueur_moyenne_sepale_virginica}}$"
   ]
  },
  {
   "cell_type": "code",
   "execution_count": null,
   "id": "a3efef3f",
   "metadata": {},
   "outputs": [],
   "source": [
    "# On set le seuil\n",
    "alpha = 0.05\n",
    "\n",
    "# On calcule la statistique t et la p-valeur\n",
    "t, p_valeur = stats.ttest_ind(\n",
    "    versicolor[\"sepal length (cm)\"],\n",
    "    virginica[\"sepal length (cm)\"],\n",
    "    alternative=\"two-sided\",\n",
    "    equal_var=False\n",
    ")\n",
    "\n",
    "print(\"La statistique t est de : \" + str(t))\n",
    "print(\"La p-valeur associée est de : \" + str(p_valeur))\n",
    "\n",
    "# Si p-valeur < alpha, on rejète l'hypothèse nulle\n",
    "if p_valeur < alpha:\n",
    "    print(\"Avec un seuil alpha\", str(alpha), \"on rejète l'hypothèse nulle.\")\n",
    "    \n",
    "# Si p-valeur > alpha, on ne rejète pas l'hypothèse nulle\n",
    "else:\n",
    "    print(\"Avec un seuil alpha\", str(alpha), \"on ne rejète pas l'hypothèse nulle.\")"
   ]
  },
  {
   "cell_type": "markdown",
   "id": "f1ebdb9b",
   "metadata": {},
   "source": [
    "## Hypothèse 2: La largeur de sépale moyenne de la versicolor est égale à la largeur de sépale moyenne de la virginica"
   ]
  },
  {
   "cell_type": "markdown",
   "id": "65876040",
   "metadata": {},
   "source": [
    "$H_0: \\mu_{\\text{largeur_moyenne_sepale_versicolor}} = \\mu_{\\text{largeur_moyenne_sepale_virginica}}$, $H_1: \\mu_{\\text{largeur_moyenne_sepale_versicolor}} \\ne \\mu_{\\text{largeur_moyenne_sepale_virginica}}$"
   ]
  },
  {
   "cell_type": "code",
   "execution_count": null,
   "id": "59930287",
   "metadata": {},
   "outputs": [],
   "source": [
    "# On set le seuil\n",
    "alpha = 0.05\n",
    "\n",
    "# On calcule la statistique t et la p-valeur\n",
    "t, p_valeur = stats.ttest_ind(\n",
    "    versicolor[\"sepal width (cm)\"],\n",
    "    virginica[\"sepal width (cm)\"],\n",
    "    alternative=\"two-sided\",\n",
    "    equal_var=False\n",
    ")\n",
    "\n",
    "print(\"La statistique t est de : \" + str(t))\n",
    "print(\"La p-valeur associée est de : \" + str(p_valeur))\n",
    "\n",
    "# Si p-valeur < alpha, on rejète l'hypothèse nulle\n",
    "if p_valeur < alpha:\n",
    "    print(\"Avec un seuil alpha\", str(alpha), \"on rejète l'hypothèse nulle.\")\n",
    "    \n",
    "# Si p-valeur > alpha, on ne rejète pas l'hypothèse nulle\n",
    "else:\n",
    "    print(\"Avec un seuil alpha\", str(alpha), \"on ne rejète pas l'hypothèse nulle.\")"
   ]
  }
 ],
 "metadata": {
  "kernelspec": {
   "display_name": "Python 3 (ipykernel)",
   "language": "python",
   "name": "python3"
  },
  "language_info": {
   "codemirror_mode": {
    "name": "ipython",
    "version": 3
   },
   "file_extension": ".py",
   "mimetype": "text/x-python",
   "name": "python",
   "nbconvert_exporter": "python",
   "pygments_lexer": "ipython3",
   "version": "3.9.13"
  }
 },
 "nbformat": 4,
 "nbformat_minor": 5
}