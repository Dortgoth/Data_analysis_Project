{
 "cells": [
  {
   "cell_type": "markdown",
   "id": "5334a33f",
   "metadata": {},
   "source": [
    "# Objectifs"
   ]
  },
  {
   "cell_type": "markdown",
   "id": "b94eae2b",
   "metadata": {},
   "source": [
    "Les objectifs de la leçon sont les suivants:\n",
    "* Calculer la correlation entre 2 variables\n",
    "* Fit une régression linéaire avec `statsmodels`\n",
    "* Interpreter la qualité de la régression linéaire"
   ]
  },
  {
   "cell_type": "markdown",
   "id": "011c498f",
   "metadata": {},
   "source": [
    "# Importer les librairies"
   ]
  },
  {
   "cell_type": "code",
   "execution_count": 1,
   "id": "aec469bd",
   "metadata": {
    "ExecuteTime": {
     "end_time": "2024-02-20T09:26:27.155160511Z",
     "start_time": "2024-02-20T09:26:26.363395322Z"
    }
   },
   "outputs": [],
   "source": [
    "import pandas as pd\n",
    "import numpy as np\n",
    "import os\n",
    "\n",
    "# Visualisation\n",
    "import seaborn as sns\n",
    "import matplotlib.pyplot as plt\n",
    "%matplotlib inline\n",
    "\n",
    "# Machine learning\n",
    "import statsmodels.api as sm"
   ]
  },
  {
   "cell_type": "markdown",
   "id": "8aaa7134",
   "metadata": {},
   "source": [
    "# Loader les données"
   ]
  },
  {
   "cell_type": "code",
   "execution_count": 3,
   "id": "91f5951f",
   "metadata": {
    "ExecuteTime": {
     "end_time": "2024-02-20T09:27:38.070722966Z",
     "start_time": "2024-02-20T09:27:37.961996214Z"
    }
   },
   "outputs": [
    {
     "data": {
      "text/plain": "    YearsExperience    Salary\n0               1.1   39343.0\n1               1.3   46205.0\n2               1.5   37731.0\n3               2.0   43525.0\n4               2.2   39891.0\n5               2.9   56642.0\n6               3.0   60150.0\n7               3.2   54445.0\n8               3.2   64445.0\n9               3.7   57189.0\n10              3.9   63218.0\n11              4.0   55794.0\n12              4.0   56957.0\n13              4.1   57081.0\n14              4.5   61111.0\n15              4.9   67938.0\n16              5.1   66029.0\n17              5.3   83088.0\n18              5.9   81363.0\n19              6.0   93940.0\n20              6.8   91738.0\n21              7.1   98273.0\n22              7.9  101302.0\n23              8.2  113812.0\n24              8.7  109431.0\n25              9.0  105582.0\n26              9.5  116969.0\n27              9.6  112635.0\n28             10.3  122391.0\n29             10.5  121872.0",
      "text/html": "<div>\n<style scoped>\n    .dataframe tbody tr th:only-of-type {\n        vertical-align: middle;\n    }\n\n    .dataframe tbody tr th {\n        vertical-align: top;\n    }\n\n    .dataframe thead th {\n        text-align: right;\n    }\n</style>\n<table border=\"1\" class=\"dataframe\">\n  <thead>\n    <tr style=\"text-align: right;\">\n      <th></th>\n      <th>YearsExperience</th>\n      <th>Salary</th>\n    </tr>\n  </thead>\n  <tbody>\n    <tr>\n      <th>0</th>\n      <td>1.1</td>\n      <td>39343.0</td>\n    </tr>\n    <tr>\n      <th>1</th>\n      <td>1.3</td>\n      <td>46205.0</td>\n    </tr>\n    <tr>\n      <th>2</th>\n      <td>1.5</td>\n      <td>37731.0</td>\n    </tr>\n    <tr>\n      <th>3</th>\n      <td>2.0</td>\n      <td>43525.0</td>\n    </tr>\n    <tr>\n      <th>4</th>\n      <td>2.2</td>\n      <td>39891.0</td>\n    </tr>\n    <tr>\n      <th>5</th>\n      <td>2.9</td>\n      <td>56642.0</td>\n    </tr>\n    <tr>\n      <th>6</th>\n      <td>3.0</td>\n      <td>60150.0</td>\n    </tr>\n    <tr>\n      <th>7</th>\n      <td>3.2</td>\n      <td>54445.0</td>\n    </tr>\n    <tr>\n      <th>8</th>\n      <td>3.2</td>\n      <td>64445.0</td>\n    </tr>\n    <tr>\n      <th>9</th>\n      <td>3.7</td>\n      <td>57189.0</td>\n    </tr>\n    <tr>\n      <th>10</th>\n      <td>3.9</td>\n      <td>63218.0</td>\n    </tr>\n    <tr>\n      <th>11</th>\n      <td>4.0</td>\n      <td>55794.0</td>\n    </tr>\n    <tr>\n      <th>12</th>\n      <td>4.0</td>\n      <td>56957.0</td>\n    </tr>\n    <tr>\n      <th>13</th>\n      <td>4.1</td>\n      <td>57081.0</td>\n    </tr>\n    <tr>\n      <th>14</th>\n      <td>4.5</td>\n      <td>61111.0</td>\n    </tr>\n    <tr>\n      <th>15</th>\n      <td>4.9</td>\n      <td>67938.0</td>\n    </tr>\n    <tr>\n      <th>16</th>\n      <td>5.1</td>\n      <td>66029.0</td>\n    </tr>\n    <tr>\n      <th>17</th>\n      <td>5.3</td>\n      <td>83088.0</td>\n    </tr>\n    <tr>\n      <th>18</th>\n      <td>5.9</td>\n      <td>81363.0</td>\n    </tr>\n    <tr>\n      <th>19</th>\n      <td>6.0</td>\n      <td>93940.0</td>\n    </tr>\n    <tr>\n      <th>20</th>\n      <td>6.8</td>\n      <td>91738.0</td>\n    </tr>\n    <tr>\n      <th>21</th>\n      <td>7.1</td>\n      <td>98273.0</td>\n    </tr>\n    <tr>\n      <th>22</th>\n      <td>7.9</td>\n      <td>101302.0</td>\n    </tr>\n    <tr>\n      <th>23</th>\n      <td>8.2</td>\n      <td>113812.0</td>\n    </tr>\n    <tr>\n      <th>24</th>\n      <td>8.7</td>\n      <td>109431.0</td>\n    </tr>\n    <tr>\n      <th>25</th>\n      <td>9.0</td>\n      <td>105582.0</td>\n    </tr>\n    <tr>\n      <th>26</th>\n      <td>9.5</td>\n      <td>116969.0</td>\n    </tr>\n    <tr>\n      <th>27</th>\n      <td>9.6</td>\n      <td>112635.0</td>\n    </tr>\n    <tr>\n      <th>28</th>\n      <td>10.3</td>\n      <td>122391.0</td>\n    </tr>\n    <tr>\n      <th>29</th>\n      <td>10.5</td>\n      <td>121872.0</td>\n    </tr>\n  </tbody>\n</table>\n</div>"
     },
     "execution_count": 3,
     "metadata": {},
     "output_type": "execute_result"
    }
   ],
   "source": [
    "# Loader les data\n",
    "filepath = os.getcwd() + \"/Data/salary_data.csv\"\n",
    "data = pd.read_csv(\n",
    "    filepath,\n",
    "    delimiter=\",\"\n",
    ")\n",
    "\n",
    "data"
   ]
  },
  {
   "cell_type": "markdown",
   "id": "158333fc",
   "metadata": {},
   "source": [
    "# (rapide) Analyse exploratoire des données"
   ]
  },
  {
   "cell_type": "markdown",
   "id": "ff5e2126",
   "metadata": {},
   "source": [
    "## Analyse rapide"
   ]
  },
  {
   "cell_type": "code",
   "execution_count": 4,
   "id": "5b3d0917",
   "metadata": {
    "ExecuteTime": {
     "end_time": "2024-02-20T09:27:43.457677827Z",
     "start_time": "2024-02-20T09:27:43.364843679Z"
    }
   },
   "outputs": [
    {
     "data": {
      "text/plain": "       YearsExperience         Salary\ncount        30.000000      30.000000\nmean          5.313333   76003.000000\nstd           2.837888   27414.429785\nmin           1.100000   37731.000000\n25%           3.200000   56720.750000\n50%           4.700000   65237.000000\n75%           7.700000  100544.750000\nmax          10.500000  122391.000000",
      "text/html": "<div>\n<style scoped>\n    .dataframe tbody tr th:only-of-type {\n        vertical-align: middle;\n    }\n\n    .dataframe tbody tr th {\n        vertical-align: top;\n    }\n\n    .dataframe thead th {\n        text-align: right;\n    }\n</style>\n<table border=\"1\" class=\"dataframe\">\n  <thead>\n    <tr style=\"text-align: right;\">\n      <th></th>\n      <th>YearsExperience</th>\n      <th>Salary</th>\n    </tr>\n  </thead>\n  <tbody>\n    <tr>\n      <th>count</th>\n      <td>30.000000</td>\n      <td>30.000000</td>\n    </tr>\n    <tr>\n      <th>mean</th>\n      <td>5.313333</td>\n      <td>76003.000000</td>\n    </tr>\n    <tr>\n      <th>std</th>\n      <td>2.837888</td>\n      <td>27414.429785</td>\n    </tr>\n    <tr>\n      <th>min</th>\n      <td>1.100000</td>\n      <td>37731.000000</td>\n    </tr>\n    <tr>\n      <th>25%</th>\n      <td>3.200000</td>\n      <td>56720.750000</td>\n    </tr>\n    <tr>\n      <th>50%</th>\n      <td>4.700000</td>\n      <td>65237.000000</td>\n    </tr>\n    <tr>\n      <th>75%</th>\n      <td>7.700000</td>\n      <td>100544.750000</td>\n    </tr>\n    <tr>\n      <th>max</th>\n      <td>10.500000</td>\n      <td>122391.000000</td>\n    </tr>\n  </tbody>\n</table>\n</div>"
     },
     "execution_count": 4,
     "metadata": {},
     "output_type": "execute_result"
    }
   ],
   "source": [
    "# Quelques statistics \n",
    "data.describe()"
   ]
  },
  {
   "cell_type": "code",
   "execution_count": 5,
   "id": "4f4664d0",
   "metadata": {
    "ExecuteTime": {
     "end_time": "2024-02-20T09:27:50.189561253Z",
     "start_time": "2024-02-20T09:27:50.070991543Z"
    }
   },
   "outputs": [
    {
     "name": "stdout",
     "output_type": "stream",
     "text": [
      "<class 'pandas.core.frame.DataFrame'>\n",
      "RangeIndex: 30 entries, 0 to 29\n",
      "Data columns (total 2 columns):\n",
      " #   Column           Non-Null Count  Dtype  \n",
      "---  ------           --------------  -----  \n",
      " 0   YearsExperience  30 non-null     float64\n",
      " 1   Salary           30 non-null     float64\n",
      "dtypes: float64(2)\n",
      "memory usage: 612.0 bytes\n"
     ]
    }
   ],
   "source": [
    "# Manque-t-il des valeurs (NaN)?\n",
    "data.info()"
   ]
  },
  {
   "cell_type": "markdown",
   "id": "fa7cd38a",
   "metadata": {},
   "source": [
    "## Analyse bivariée"
   ]
  },
  {
   "cell_type": "markdown",
   "id": "81b6d1fe",
   "metadata": {},
   "source": [
    "[`sns.pairplot()`](https://seaborn.pydata.org/generated/seaborn.pairplot.html) permet de visualiser les relations entre les variables de notre jeu de données."
   ]
  },
  {
   "cell_type": "code",
   "execution_count": 6,
   "id": "d29daace",
   "metadata": {
    "ExecuteTime": {
     "end_time": "2024-02-20T09:28:05.019954218Z",
     "start_time": "2024-02-20T09:28:01.148270081Z"
    }
   },
   "outputs": [
    {
     "name": "stderr",
     "output_type": "stream",
     "text": [
      "/home/guillaume/anaconda3/lib/python3.11/site-packages/seaborn/_oldcore.py:1119: FutureWarning: use_inf_as_na option is deprecated and will be removed in a future version. Convert inf values to NaN before operating instead.\n",
      "  with pd.option_context('mode.use_inf_as_na', True):\n",
      "/home/guillaume/anaconda3/lib/python3.11/site-packages/seaborn/_oldcore.py:1119: FutureWarning: use_inf_as_na option is deprecated and will be removed in a future version. Convert inf values to NaN before operating instead.\n",
      "  with pd.option_context('mode.use_inf_as_na', True):\n",
      "/home/guillaume/anaconda3/lib/python3.11/site-packages/seaborn/axisgrid.py:118: UserWarning: The figure layout has changed to tight\n",
      "  self._figure.tight_layout(*args, **kwargs)\n"
     ]
    },
    {
     "data": {
      "text/plain": "<Figure size 500x500 with 6 Axes>",
      "image/png": "[encoded data removed]"
     },
     "metadata": {},
     "output_type": "display_data"
    }
   ],
   "source": [
    "# Etudier la relation entre les variables indépentes et la variable dépendente\n",
    "sns.pairplot(\n",
    "    data=data,\n",
    "    corner=False # pour eviter d'avoir les scatter plots en double\n",
    ")\n",
    "plt.show()"
   ]
  },
  {
   "cell_type": "markdown",
   "id": "4c63fce3",
   "metadata": {},
   "source": [
    "Les 2 variables quantitatives semblent être **liées d'un point de vue linéaire**. On s'attend donc à avoir un **coefficient de correlation positif et donc proche de 1**."
   ]
  },
  {
   "cell_type": "markdown",
   "id": "af867d38",
   "metadata": {},
   "source": [
    "## Correlation"
   ]
  },
  {
   "cell_type": "markdown",
   "id": "34102c3c",
   "metadata": {},
   "source": [
    "La fonction [`.corr()`](https://pandas.pydata.org/docs/reference/api/pandas.DataFrame.corr.html) permet de calculer la correlation entre les variables **quantitatives**."
   ]
  },
  {
   "cell_type": "code",
   "execution_count": 7,
   "id": "4b9b21d8",
   "metadata": {
    "ExecuteTime": {
     "end_time": "2024-02-20T09:28:34.569593173Z",
     "start_time": "2024-02-20T09:28:34.471915115Z"
    }
   },
   "outputs": [
    {
     "data": {
      "text/plain": "                 YearsExperience    Salary\nYearsExperience         1.000000  0.978242\nSalary                  0.978242  1.000000",
      "text/html": "<div>\n<style scoped>\n    .dataframe tbody tr th:only-of-type {\n        vertical-align: middle;\n    }\n\n    .dataframe tbody tr th {\n        vertical-align: top;\n    }\n\n    .dataframe thead th {\n        text-align: right;\n    }\n</style>\n<table border=\"1\" class=\"dataframe\">\n  <thead>\n    <tr style=\"text-align: right;\">\n      <th></th>\n      <th>YearsExperience</th>\n      <th>Salary</th>\n    </tr>\n  </thead>\n  <tbody>\n    <tr>\n      <th>YearsExperience</th>\n      <td>1.000000</td>\n      <td>0.978242</td>\n    </tr>\n    <tr>\n      <th>Salary</th>\n      <td>0.978242</td>\n      <td>1.000000</td>\n    </tr>\n  </tbody>\n</table>\n</div>"
     },
     "execution_count": 7,
     "metadata": {},
     "output_type": "execute_result"
    }
   ],
   "source": [
    "# Calculons le coefficient de correlation entre les 2 variables\n",
    "data.corr()"
   ]
  },
  {
   "cell_type": "markdown",
   "id": "fe36ff19",
   "metadata": {},
   "source": [
    "Le coefficient de correlation étant entre 0.6 et 1.0, la **correlation est donc élevée**."
   ]
  },
  {
   "cell_type": "markdown",
   "id": "28737428",
   "metadata": {},
   "source": [
    "# Régression linéaire"
   ]
  },
  {
   "cell_type": "markdown",
   "id": "e899d7f1",
   "metadata": {},
   "source": [
    "Nos premières assumptions sont confirmées: les variables sont liées linéairement, corréléees et on aimerait trouver la droite de best fit qui passe entre ces 2 variables. Pour cela, nous allons utiliser la fonction [`statsmodels.OLS`](https://www.statsmodels.org/dev/generated/statsmodels.regression.linear_model.OLS.html) (Ordinary Least Squares), qui est la méthode classique.  "
   ]
  },
  {
   "cell_type": "markdown",
   "id": "a52e34a8",
   "metadata": {},
   "source": [
    "## Fit une régression linéaire"
   ]
  },
  {
   "cell_type": "markdown",
   "id": "2c9008ca",
   "metadata": {},
   "source": [
    "Il faut dans un premier temps que nous séparions en deux dataframes les variables: une variable X et une variable Y."
   ]
  },
  {
   "cell_type": "code",
   "execution_count": 8,
   "id": "99890031",
   "metadata": {
    "ExecuteTime": {
     "end_time": "2024-02-20T09:28:50.639135885Z",
     "start_time": "2024-02-20T09:28:50.564359002Z"
    }
   },
   "outputs": [],
   "source": [
    "# Séparer les variables\n",
    "x = data[\"YearsExperience\"]\n",
    "y = data[\"Salary\"]"
   ]
  },
  {
   "cell_type": "markdown",
   "id": "25a2961c",
   "metadata": {},
   "source": [
    "Voici le modèle que nous allons produire:\n",
    "\n",
    "$$ \\underbrace{\\text{Salary}}_{y} = \\underbrace{a}_{\\text{slope/pente}} \\cdot  \\underbrace{YearsExperience}_{\\text{x}} + \\underbrace{b}_{\\text{intercept}} $$"
   ]
  },
  {
   "cell_type": "code",
   "execution_count": 9,
   "id": "49b09ae6",
   "metadata": {
    "ExecuteTime": {
     "end_time": "2024-02-20T09:32:07.363900060Z",
     "start_time": "2024-02-20T09:32:07.226941564Z"
    }
   },
   "outputs": [
    {
     "name": "stdout",
     "output_type": "stream",
     "text": [
      "                            OLS Regression Results                            \n",
      "==============================================================================\n",
      "Dep. Variable:                 Salary   R-squared:                       0.957\n",
      "Model:                            OLS   Adj. R-squared:                  0.955\n",
      "Method:                 Least Squares   F-statistic:                     622.5\n",
      "Date:                Tue, 20 Feb 2024   Prob (F-statistic):           1.14e-20\n",
      "Time:                        10:32:07   Log-Likelihood:                -301.44\n",
      "No. Observations:                  30   AIC:                             606.9\n",
      "Df Residuals:                      28   BIC:                             609.7\n",
      "Df Model:                           1                                         \n",
      "Covariance Type:            nonrobust                                         \n",
      "===================================================================================\n",
      "                      coef    std err          t      P>|t|      [0.025      0.975]\n",
      "-----------------------------------------------------------------------------------\n",
      "const            2.579e+04   2273.053     11.347      0.000    2.11e+04    3.04e+04\n",
      "YearsExperience  9449.9623    378.755     24.950      0.000    8674.119    1.02e+04\n",
      "==============================================================================\n",
      "Omnibus:                        2.140   Durbin-Watson:                   1.648\n",
      "Prob(Omnibus):                  0.343   Jarque-Bera (JB):                1.569\n",
      "Skew:                           0.363   Prob(JB):                        0.456\n",
      "Kurtosis:                       2.147   Cond. No.                         13.2\n",
      "==============================================================================\n",
      "\n",
      "Notes:\n",
      "[1] Standard Errors assume that the covariance matrix of the errors is correctly specified.\n"
     ]
    }
   ],
   "source": [
    "# Générer un model de régression linéaire\n",
    "model = sm.OLS(\n",
    "    y,\n",
    "    sm.add_constant(x) # il faut rajouter une constante, qui n'est pas là par défaut\n",
    ")\n",
    "\n",
    "# Fit le model\n",
    "model_fit = model.fit()\n",
    "\n",
    "# Quel est le résumé?\n",
    "print(model_fit.summary())"
   ]
  },
  {
   "cell_type": "markdown",
   "id": "3935f71c",
   "metadata": {},
   "source": [
    "Un tas d'information nous ai présenté dans le résumé ci-dessus. On remarque notamment que le **R-squared est de 95.7%**, ce qui est très élevé. Ceci était attendu puisque le coefficient de correlation était supérieur à 0.9.\n",
    "\n",
    "On note aussi que la **slope/pente est positive et élevé** (9449), ce qui confirme que plus l'on a d'années d'expérience, plus notre salaire semble être élevé."
   ]
  },
  {
   "cell_type": "code",
   "execution_count": 10,
   "id": "8d4d1ad0",
   "metadata": {
    "ExecuteTime": {
     "end_time": "2024-02-20T09:36:01.262974754Z",
     "start_time": "2024-02-20T09:36:00.061450906Z"
    }
   },
   "outputs": [
    {
     "data": {
      "text/plain": "<Axes: xlabel='YearsExperience', ylabel='Salary'>"
     },
     "execution_count": 10,
     "metadata": {},
     "output_type": "execute_result"
    },
    {
     "data": {
      "text/plain": "<Figure size 640x480 with 1 Axes>",
      "image/png": "[encoded data removed]"
     },
     "metadata": {},
     "output_type": "display_data"
    }
   ],
   "source": [
    "# Faisons un plot de la régression linéaire\n",
    "sns.regplot(\n",
    "    data=data,\n",
    "    x=x,\n",
    "    y=y,\n",
    "    ci=False, # no need for the confidence interval\n",
    "    line_kws={\"color\": \"red\"} # red line\n",
    ")"
   ]
  },
  {
   "cell_type": "code",
   "outputs": [],
   "source": [],
   "metadata": {
    "collapsed": false
   },
   "id": "eefa5e00750ac681"
  }
 ],
 "metadata": {
  "kernelspec": {
   "display_name": "Python 3 (ipykernel)",
   "language": "python",
   "name": "python3"
  },
  "language_info": {
   "codemirror_mode": {
    "name": "ipython",
    "version": 3
   },
   "file_extension": ".py",
   "mimetype": "text/x-python",
   "name": "python",
   "nbconvert_exporter": "python",
   "pygments_lexer": "ipython3",
   "version": "3.9.13"
  }
 },
 "nbformat": 4,
 "nbformat_minor": 5
}
