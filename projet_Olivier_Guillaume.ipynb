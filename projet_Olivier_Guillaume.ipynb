{
 "cells": [
  {
   "cell_type": "markdown",
   "id": "7dbba591",
   "metadata": {},
   "source": [
    "# Importer les librairies"
   ]
  },
  {
   "cell_type": "code",
   "execution_count": 19,
   "id": "0e1c95d0",
   "metadata": {
    "ExecuteTime": {
     "end_time": "2024-02-27T10:12:38.404672Z",
     "start_time": "2024-02-27T10:12:38.396768Z"
    }
   },
   "outputs": [],
   "source": [
    "import pandas as pd \n",
    "import os\n",
    "import seaborn as sns\n",
    "import matplotlib.pyplot as plt\n",
    "import statsmodels.api as sm\n",
    "import numpy as np\n",
    "from scipy import stats\n",
    "from sklearn.tree import DecisionTreeClassifier, plot_tree"
   ]
  },
  {
   "cell_type": "markdown",
   "id": "3abf0329",
   "metadata": {},
   "source": [
    "# Importer les données"
   ]
  },
  {
   "cell_type": "code",
   "execution_count": 8,
   "id": "1066b6ec",
   "metadata": {
    "ExecuteTime": {
     "end_time": "2024-02-27T10:22:44.438006Z",
     "start_time": "2024-02-27T10:22:44.391771Z"
    }
   },
   "outputs": [
    {
     "data": {
      "text/html": [
       "<div>\n",
       "<style scoped>\n",
       "    .dataframe tbody tr th:only-of-type {\n",
       "        vertical-align: middle;\n",
       "    }\n",
       "\n",
       "    .dataframe tbody tr th {\n",
       "        vertical-align: top;\n",
       "    }\n",
       "\n",
       "    .dataframe thead th {\n",
       "        text-align: right;\n",
       "    }\n",
       "</style>\n",
       "<table border=\"1\" class=\"dataframe\">\n",
       "  <thead>\n",
       "    <tr style=\"text-align: right;\">\n",
       "      <th></th>\n",
       "      <th>PassengerId</th>\n",
       "      <th>Survived</th>\n",
       "      <th>Pclass</th>\n",
       "      <th>Name</th>\n",
       "      <th>Sex</th>\n",
       "      <th>Age</th>\n",
       "      <th>SibSp</th>\n",
       "      <th>Parch</th>\n",
       "      <th>Ticket</th>\n",
       "      <th>Fare</th>\n",
       "      <th>Cabin</th>\n",
       "      <th>Embarked</th>\n",
       "    </tr>\n",
       "  </thead>\n",
       "  <tbody>\n",
       "    <tr>\n",
       "      <th>0</th>\n",
       "      <td>1</td>\n",
       "      <td>0</td>\n",
       "      <td>3</td>\n",
       "      <td>Braund, Mr. Owen Harris</td>\n",
       "      <td>male</td>\n",
       "      <td>22.0</td>\n",
       "      <td>1</td>\n",
       "      <td>0</td>\n",
       "      <td>A/5 21171</td>\n",
       "      <td>7.2500</td>\n",
       "      <td>NaN</td>\n",
       "      <td>S</td>\n",
       "    </tr>\n",
       "    <tr>\n",
       "      <th>1</th>\n",
       "      <td>2</td>\n",
       "      <td>1</td>\n",
       "      <td>1</td>\n",
       "      <td>Cumings, Mrs. John Bradley (Florence Briggs Th...</td>\n",
       "      <td>female</td>\n",
       "      <td>38.0</td>\n",
       "      <td>1</td>\n",
       "      <td>0</td>\n",
       "      <td>PC 17599</td>\n",
       "      <td>71.2833</td>\n",
       "      <td>C85</td>\n",
       "      <td>C</td>\n",
       "    </tr>\n",
       "    <tr>\n",
       "      <th>2</th>\n",
       "      <td>3</td>\n",
       "      <td>1</td>\n",
       "      <td>3</td>\n",
       "      <td>Heikkinen, Miss. Laina</td>\n",
       "      <td>female</td>\n",
       "      <td>26.0</td>\n",
       "      <td>0</td>\n",
       "      <td>0</td>\n",
       "      <td>STON/O2. 3101282</td>\n",
       "      <td>7.9250</td>\n",
       "      <td>NaN</td>\n",
       "      <td>S</td>\n",
       "    </tr>\n",
       "    <tr>\n",
       "      <th>3</th>\n",
       "      <td>4</td>\n",
       "      <td>1</td>\n",
       "      <td>1</td>\n",
       "      <td>Futrelle, Mrs. Jacques Heath (Lily May Peel)</td>\n",
       "      <td>female</td>\n",
       "      <td>35.0</td>\n",
       "      <td>1</td>\n",
       "      <td>0</td>\n",
       "      <td>113803</td>\n",
       "      <td>53.1000</td>\n",
       "      <td>C123</td>\n",
       "      <td>S</td>\n",
       "    </tr>\n",
       "    <tr>\n",
       "      <th>4</th>\n",
       "      <td>5</td>\n",
       "      <td>0</td>\n",
       "      <td>3</td>\n",
       "      <td>Allen, Mr. William Henry</td>\n",
       "      <td>male</td>\n",
       "      <td>35.0</td>\n",
       "      <td>0</td>\n",
       "      <td>0</td>\n",
       "      <td>373450</td>\n",
       "      <td>8.0500</td>\n",
       "      <td>NaN</td>\n",
       "      <td>S</td>\n",
       "    </tr>\n",
       "    <tr>\n",
       "      <th>...</th>\n",
       "      <td>...</td>\n",
       "      <td>...</td>\n",
       "      <td>...</td>\n",
       "      <td>...</td>\n",
       "      <td>...</td>\n",
       "      <td>...</td>\n",
       "      <td>...</td>\n",
       "      <td>...</td>\n",
       "      <td>...</td>\n",
       "      <td>...</td>\n",
       "      <td>...</td>\n",
       "      <td>...</td>\n",
       "    </tr>\n",
       "    <tr>\n",
       "      <th>886</th>\n",
       "      <td>887</td>\n",
       "      <td>0</td>\n",
       "      <td>2</td>\n",
       "      <td>Montvila, Rev. Juozas</td>\n",
       "      <td>male</td>\n",
       "      <td>27.0</td>\n",
       "      <td>0</td>\n",
       "      <td>0</td>\n",
       "      <td>211536</td>\n",
       "      <td>13.0000</td>\n",
       "      <td>NaN</td>\n",
       "      <td>S</td>\n",
       "    </tr>\n",
       "    <tr>\n",
       "      <th>887</th>\n",
       "      <td>888</td>\n",
       "      <td>1</td>\n",
       "      <td>1</td>\n",
       "      <td>Graham, Miss. Margaret Edith</td>\n",
       "      <td>female</td>\n",
       "      <td>19.0</td>\n",
       "      <td>0</td>\n",
       "      <td>0</td>\n",
       "      <td>112053</td>\n",
       "      <td>30.0000</td>\n",
       "      <td>B42</td>\n",
       "      <td>S</td>\n",
       "    </tr>\n",
       "    <tr>\n",
       "      <th>888</th>\n",
       "      <td>889</td>\n",
       "      <td>0</td>\n",
       "      <td>3</td>\n",
       "      <td>Johnston, Miss. Catherine Helen \"Carrie\"</td>\n",
       "      <td>female</td>\n",
       "      <td>NaN</td>\n",
       "      <td>1</td>\n",
       "      <td>2</td>\n",
       "      <td>W./C. 6607</td>\n",
       "      <td>23.4500</td>\n",
       "      <td>NaN</td>\n",
       "      <td>S</td>\n",
       "    </tr>\n",
       "    <tr>\n",
       "      <th>889</th>\n",
       "      <td>890</td>\n",
       "      <td>1</td>\n",
       "      <td>1</td>\n",
       "      <td>Behr, Mr. Karl Howell</td>\n",
       "      <td>male</td>\n",
       "      <td>26.0</td>\n",
       "      <td>0</td>\n",
       "      <td>0</td>\n",
       "      <td>111369</td>\n",
       "      <td>30.0000</td>\n",
       "      <td>C148</td>\n",
       "      <td>C</td>\n",
       "    </tr>\n",
       "    <tr>\n",
       "      <th>890</th>\n",
       "      <td>891</td>\n",
       "      <td>0</td>\n",
       "      <td>3</td>\n",
       "      <td>Dooley, Mr. Patrick</td>\n",
       "      <td>male</td>\n",
       "      <td>32.0</td>\n",
       "      <td>0</td>\n",
       "      <td>0</td>\n",
       "      <td>370376</td>\n",
       "      <td>7.7500</td>\n",
       "      <td>NaN</td>\n",
       "      <td>Q</td>\n",
       "    </tr>\n",
       "  </tbody>\n",
       "</table>\n",
       "<p>891 rows × 12 columns</p>\n",
       "</div>"
      ],
      "text/plain": [
       "     PassengerId  Survived  Pclass  \\\n",
       "0              1         0       3   \n",
       "1              2         1       1   \n",
       "2              3         1       3   \n",
       "3              4         1       1   \n",
       "4              5         0       3   \n",
       "..           ...       ...     ...   \n",
       "886          887         0       2   \n",
       "887          888         1       1   \n",
       "888          889         0       3   \n",
       "889          890         1       1   \n",
       "890          891         0       3   \n",
       "\n",
       "                                                  Name     Sex   Age  SibSp  \\\n",
       "0                              Braund, Mr. Owen Harris    male  22.0      1   \n",
       "1    Cumings, Mrs. John Bradley (Florence Briggs Th...  female  38.0      1   \n",
       "2                               Heikkinen, Miss. Laina  female  26.0      0   \n",
       "3         Futrelle, Mrs. Jacques Heath (Lily May Peel)  female  35.0      1   \n",
       "4                             Allen, Mr. William Henry    male  35.0      0   \n",
       "..                                                 ...     ...   ...    ...   \n",
       "886                              Montvila, Rev. Juozas    male  27.0      0   \n",
       "887                       Graham, Miss. Margaret Edith  female  19.0      0   \n",
       "888           Johnston, Miss. Catherine Helen \"Carrie\"  female   NaN      1   \n",
       "889                              Behr, Mr. Karl Howell    male  26.0      0   \n",
       "890                                Dooley, Mr. Patrick    male  32.0      0   \n",
       "\n",
       "     Parch            Ticket     Fare Cabin Embarked  \n",
       "0        0         A/5 21171   7.2500   NaN        S  \n",
       "1        0          PC 17599  71.2833   C85        C  \n",
       "2        0  STON/O2. 3101282   7.9250   NaN        S  \n",
       "3        0            113803  53.1000  C123        S  \n",
       "4        0            373450   8.0500   NaN        S  \n",
       "..     ...               ...      ...   ...      ...  \n",
       "886      0            211536  13.0000   NaN        S  \n",
       "887      0            112053  30.0000   B42        S  \n",
       "888      2        W./C. 6607  23.4500   NaN        S  \n",
       "889      0            111369  30.0000  C148        C  \n",
       "890      0            370376   7.7500   NaN        Q  \n",
       "\n",
       "[891 rows x 12 columns]"
      ]
     },
     "execution_count": 8,
     "metadata": {},
     "output_type": "execute_result"
    }
   ],
   "source": [
    "data = pd.read_csv(\"Data/titanic.csv\")\n",
    "data"
   ]
  },
  {
   "cell_type": "markdown",
   "id": "05045c73",
   "metadata": {},
   "source": [
    "# Questions"
   ]
  },
  {
   "cell_type": "markdown",
   "id": "a164d862",
   "metadata": {},
   "source": [
    "## 1. Préparation des données\n",
    "\n",
    "Remplissez la function `preprocess` ci-dessus. Celle-ci doit:\n",
    "1. Supprimez les colonnes `PassengerId`, `Name`, `Ticket`, `Cabin`.\n",
    "2. Supprimez les lignes contenant au moins une valeur manquante.\n",
    "3. Créer une variable `FamilySize` qui est correspond à `SibSp` + `Parch` + 1. Supprimez les variables `SibSp` et `Parch`.\n",
    "4. Recalculer le prix du billet `Fare` en divisant `Fare` par `FamilySize`.\n",
    "5. Encoder les variables qualitatives `Sex`, `Embarked` et `Pclass` avec l'argument `drop_first=True`."
   ]
  },
  {
   "cell_type": "code",
   "execution_count": 9,
   "id": "d4299600",
   "metadata": {
    "ExecuteTime": {
     "end_time": "2024-02-27T10:22:48.316310Z",
     "start_time": "2024-02-27T10:22:48.297719Z"
    }
   },
   "outputs": [],
   "source": [
    "def preprocess(data: pd.DataFrame) -> pd.DataFrame:\n",
    "    \n",
    "    \"\"\"La fonction prépare les données à l'analyse.\n",
    "    \n",
    "    Args:\n",
    "        data (pd.DataFrame): La dataframe originale\n",
    "        \n",
    "    Returns:\n",
    "        pd.DataFrame: La dataframe preprocessée et prête à être analysée.\n",
    "    \"\"\"\n",
    "    # Faire une copie de la dataframe originale\n",
    "    data_preprocessed = data.copy()\n",
    "    \n",
    "    # Supprimer les variables `PassengerId`, `Name`, `Ticket` & `Cabin`\n",
    "    data_preprocessed.drop(columns=[\"PassengerId\", \"Name\", \"Ticket\", \"Cabin\"], inplace=True)\n",
    "    \n",
    "    # Supprimer les lignes contenant au moins une valeur manquante\n",
    "    data_preprocessed = data_preprocessed.dropna(axis=0) \n",
    "\n",
    "    # Créer une variable `FamilySize` et supprimer les variables `SibSp` et `Parch`\n",
    "    data_preprocessed['FamilySize'] = data_preprocessed['SibSp'] + data_preprocessed['Parch'] + 1\n",
    "    data_preprocessed.drop(['SibSp', 'Parch'], axis=1, inplace=True)\n",
    "    \n",
    "    # Recalculer le prix du billet\n",
    "    data_preprocessed['Fare'] = data_preprocessed['Fare'] / data_preprocessed['FamilySize'].where(data_preprocessed['FamilySize'] != 0, 1)\n",
    "    \n",
    "    # One-hot encoding de `Sex`, `Embarked` et `Pclass`\n",
    "    data_preprocessed = pd.get_dummies(data_preprocessed, columns=['Sex', 'Embarked'], drop_first=True, dtype=int)\n",
    "\n",
    "    \n",
    "\n",
    "    \n",
    "    # CHECK: NE PAS TOUCHER\n",
    "    for col in [\"PassengerId\", \"Name\", \"Ticket\", \"Cabin\", \"SibSp\", \"Parch\"]:\n",
    "        assert col not in data_preprocessed, f\"{col} n'a pas été retiré.\"\n",
    "    assert data_preprocessed.isna().sum().sum() == 0, \"Il reste encore des NaN à supprimer.\"\n",
    "    assert \"FamilySize\" in data_preprocessed.columns, \"La colonne `FamilySize` n'a pas été créée.\"\n",
    "    assert data_preprocessed.loc[0, \"Fare\"] == 3.625, \"La colonne `Fare` n'a pas été recalculée.\"\n",
    "    for col in [col for col in data_preprocessed if col.startswith(\"Embarked\")]:\n",
    "        assert data_preprocessed[col].nunique() == 2, f\"{col} n'a pas été encodé.\"\n",
    "    for col in [col for col in data_preprocessed if col.startswith(\"Sex\")]:\n",
    "        assert data_preprocessed[col].nunique() == 2, f\"{col} n'a pas été encodé.\"\n",
    "\n",
    "    \n",
    "    return data_preprocessed"
   ]
  },
  {
   "cell_type": "markdown",
   "id": "35ca88d2",
   "metadata": {},
   "source": [
    "\n",
    "Le résultat de la function doit vous donner exactement le tableau ci-dessous."
   ]
  },
  {
   "cell_type": "code",
   "execution_count": 10,
   "id": "53b7ef06",
   "metadata": {
    "ExecuteTime": {
     "end_time": "2024-02-27T10:22:50.869100Z",
     "start_time": "2024-02-27T10:22:50.816436Z"
    }
   },
   "outputs": [
    {
     "data": {
      "text/html": [
       "<div>\n",
       "<style scoped>\n",
       "    .dataframe tbody tr th:only-of-type {\n",
       "        vertical-align: middle;\n",
       "    }\n",
       "\n",
       "    .dataframe tbody tr th {\n",
       "        vertical-align: top;\n",
       "    }\n",
       "\n",
       "    .dataframe thead th {\n",
       "        text-align: right;\n",
       "    }\n",
       "</style>\n",
       "<table border=\"1\" class=\"dataframe\">\n",
       "  <thead>\n",
       "    <tr style=\"text-align: right;\">\n",
       "      <th></th>\n",
       "      <th>Survived</th>\n",
       "      <th>Pclass</th>\n",
       "      <th>Age</th>\n",
       "      <th>Fare</th>\n",
       "      <th>FamilySize</th>\n",
       "      <th>Sex_male</th>\n",
       "      <th>Embarked_Q</th>\n",
       "      <th>Embarked_S</th>\n",
       "    </tr>\n",
       "  </thead>\n",
       "  <tbody>\n",
       "    <tr>\n",
       "      <th>0</th>\n",
       "      <td>0</td>\n",
       "      <td>3</td>\n",
       "      <td>22.0</td>\n",
       "      <td>3.625000</td>\n",
       "      <td>2</td>\n",
       "      <td>1</td>\n",
       "      <td>0</td>\n",
       "      <td>1</td>\n",
       "    </tr>\n",
       "    <tr>\n",
       "      <th>1</th>\n",
       "      <td>1</td>\n",
       "      <td>1</td>\n",
       "      <td>38.0</td>\n",
       "      <td>35.641650</td>\n",
       "      <td>2</td>\n",
       "      <td>0</td>\n",
       "      <td>0</td>\n",
       "      <td>0</td>\n",
       "    </tr>\n",
       "    <tr>\n",
       "      <th>2</th>\n",
       "      <td>1</td>\n",
       "      <td>3</td>\n",
       "      <td>26.0</td>\n",
       "      <td>7.925000</td>\n",
       "      <td>1</td>\n",
       "      <td>0</td>\n",
       "      <td>0</td>\n",
       "      <td>1</td>\n",
       "    </tr>\n",
       "    <tr>\n",
       "      <th>3</th>\n",
       "      <td>1</td>\n",
       "      <td>1</td>\n",
       "      <td>35.0</td>\n",
       "      <td>26.550000</td>\n",
       "      <td>2</td>\n",
       "      <td>0</td>\n",
       "      <td>0</td>\n",
       "      <td>1</td>\n",
       "    </tr>\n",
       "    <tr>\n",
       "      <th>4</th>\n",
       "      <td>0</td>\n",
       "      <td>3</td>\n",
       "      <td>35.0</td>\n",
       "      <td>8.050000</td>\n",
       "      <td>1</td>\n",
       "      <td>1</td>\n",
       "      <td>0</td>\n",
       "      <td>1</td>\n",
       "    </tr>\n",
       "    <tr>\n",
       "      <th>...</th>\n",
       "      <td>...</td>\n",
       "      <td>...</td>\n",
       "      <td>...</td>\n",
       "      <td>...</td>\n",
       "      <td>...</td>\n",
       "      <td>...</td>\n",
       "      <td>...</td>\n",
       "      <td>...</td>\n",
       "    </tr>\n",
       "    <tr>\n",
       "      <th>885</th>\n",
       "      <td>0</td>\n",
       "      <td>3</td>\n",
       "      <td>39.0</td>\n",
       "      <td>4.854167</td>\n",
       "      <td>6</td>\n",
       "      <td>0</td>\n",
       "      <td>1</td>\n",
       "      <td>0</td>\n",
       "    </tr>\n",
       "    <tr>\n",
       "      <th>886</th>\n",
       "      <td>0</td>\n",
       "      <td>2</td>\n",
       "      <td>27.0</td>\n",
       "      <td>13.000000</td>\n",
       "      <td>1</td>\n",
       "      <td>1</td>\n",
       "      <td>0</td>\n",
       "      <td>1</td>\n",
       "    </tr>\n",
       "    <tr>\n",
       "      <th>887</th>\n",
       "      <td>1</td>\n",
       "      <td>1</td>\n",
       "      <td>19.0</td>\n",
       "      <td>30.000000</td>\n",
       "      <td>1</td>\n",
       "      <td>0</td>\n",
       "      <td>0</td>\n",
       "      <td>1</td>\n",
       "    </tr>\n",
       "    <tr>\n",
       "      <th>889</th>\n",
       "      <td>1</td>\n",
       "      <td>1</td>\n",
       "      <td>26.0</td>\n",
       "      <td>30.000000</td>\n",
       "      <td>1</td>\n",
       "      <td>1</td>\n",
       "      <td>0</td>\n",
       "      <td>0</td>\n",
       "    </tr>\n",
       "    <tr>\n",
       "      <th>890</th>\n",
       "      <td>0</td>\n",
       "      <td>3</td>\n",
       "      <td>32.0</td>\n",
       "      <td>7.750000</td>\n",
       "      <td>1</td>\n",
       "      <td>1</td>\n",
       "      <td>1</td>\n",
       "      <td>0</td>\n",
       "    </tr>\n",
       "  </tbody>\n",
       "</table>\n",
       "<p>712 rows × 8 columns</p>\n",
       "</div>"
      ],
      "text/plain": [
       "     Survived  Pclass   Age       Fare  FamilySize  Sex_male  Embarked_Q  \\\n",
       "0           0       3  22.0   3.625000           2         1           0   \n",
       "1           1       1  38.0  35.641650           2         0           0   \n",
       "2           1       3  26.0   7.925000           1         0           0   \n",
       "3           1       1  35.0  26.550000           2         0           0   \n",
       "4           0       3  35.0   8.050000           1         1           0   \n",
       "..        ...     ...   ...        ...         ...       ...         ...   \n",
       "885         0       3  39.0   4.854167           6         0           1   \n",
       "886         0       2  27.0  13.000000           1         1           0   \n",
       "887         1       1  19.0  30.000000           1         0           0   \n",
       "889         1       1  26.0  30.000000           1         1           0   \n",
       "890         0       3  32.0   7.750000           1         1           1   \n",
       "\n",
       "     Embarked_S  \n",
       "0             1  \n",
       "1             0  \n",
       "2             1  \n",
       "3             1  \n",
       "4             1  \n",
       "..          ...  \n",
       "885           0  \n",
       "886           1  \n",
       "887           1  \n",
       "889           0  \n",
       "890           0  \n",
       "\n",
       "[712 rows x 8 columns]"
      ]
     },
     "metadata": {},
     "output_type": "display_data"
    }
   ],
   "source": [
    "# Preprocess les données à l'aide de la function `preprocess`\n",
    "data_clean = preprocess(data)\n",
    "display(data_clean)"
   ]
  },
  {
   "cell_type": "markdown",
   "id": "5a1091b1",
   "metadata": {},
   "source": [
    "## 2. Inférence statistique (4 pts)"
   ]
  },
  {
   "cell_type": "markdown",
   "id": "93fdb7b6",
   "metadata": {},
   "source": [
    "**Q1: L'âge moyen des passagers du Titanic est-il le même que l'âge moyen de la population en 1912 (28 ans)?**"
   ]
  },
  {
   "cell_type": "markdown",
   "id": "49053181",
   "metadata": {},
   "source": [
    "1. La variable d'intérêt est l'âge des passagers, c'est une variable de type quantitative.\n",
    "2. Nous avons donc décidé d'utiliser un histogramme afin de la visualiser"
   ]
  },
  {
   "cell_type": "code",
   "execution_count": 12,
   "id": "3e7343de",
   "metadata": {},
   "outputs": [
    {
     "name": "stderr",
     "output_type": "stream",
     "text": [
      "/home/guillaume/anaconda3/lib/python3.11/site-packages/seaborn/_oldcore.py:1119: FutureWarning: use_inf_as_na option is deprecated and will be removed in a future version. Convert inf values to NaN before operating instead.\n",
      "  with pd.option_context('mode.use_inf_as_na', True):\n"
     ]
    },
    {
     "data": {
      "image/png": "[encoded data removed]",
      "text/plain": [
       "<Figure size 1000x600 with 1 Axes>"
      ]
     },
     "metadata": {},
     "output_type": "display_data"
    }
   ],
   "source": [
    "# Créer un histogramme et un KDE pour la variable `Age`\n",
    "plt.figure(figsize=(10,6))\n",
    "sns.histplot(data=data_clean, x='Age', kde=True)\n",
    "plt.title(\"Histogram and KDE for Age\")\n",
    "plt.show()"
   ]
  },
  {
   "cell_type": "markdown",
   "id": "eaf8628a",
   "metadata": {},
   "source": [
    "3. Notre hypothèse nulle est que l'âge moyen des passagers du Titanic est égal à celui de la population en 1912 (28ans). Notre hypothèse alternative est que l'âge moyen des passagers du Titanic n'est pas de 28 ans : "
   ]
  },
  {
   "cell_type": "markdown",
   "id": "31b8702c",
   "metadata": {},
   "source": [
    "\\begin{align*}\n",
    "H_0 &= 28 \\quad et \\quad H_1\\neq 28\n",
    "\\end{align*}"
   ]
  },
  {
   "cell_type": "markdown",
   "id": "4d4941f0",
   "metadata": {},
   "source": [
    "4. Nous allons utiliser un t-test car nous ne possédons pas la variance de la population. Nous utiliserons donc la formule suivante :"
   ]
  },
  {
   "cell_type": "markdown",
   "id": "d5948462",
   "metadata": {},
   "source": [
    "$$ t = \\frac{\\bar{X} - \\mu}{s / \\sqrt{n}} $$\n"
   ]
  },
  {
   "cell_type": "markdown",
   "id": "689a82cd",
   "metadata": {},
   "source": [
    "5. Assumptions :\n",
    "    L'échantillon est aléatoire, dans le sens où nous utilisons l'ensemble d'un jeux de données qui est aléatoire, et les différentes manipulations (retrait des valeurs nulles) n'en altèrent pas l'aléatoire.\n",
    "    La taille de l'échantillon est de 712 passagers (largement supérieur à 30)"
   ]
  },
  {
   "cell_type": "code",
   "execution_count": 17,
   "id": "8d1e6942",
   "metadata": {},
   "outputs": [
    {
     "name": "stdout",
     "output_type": "stream",
     "text": [
      "L'âge moyen est de 29.64209269662921\n",
      "L'écart type de l'échantillon est de 14.49293290032352\n"
     ]
    }
   ],
   "source": [
    "sample_mean = np.mean(data_clean['Age']) \n",
    "sample_std = np.std(data_clean['Age'], ddof=1) \n",
    "mu = 28 \n",
    "n = len(data_clean['Age'])\n",
    "\n",
    "print(\"L'âge moyen est de\", str(sample_mean))\n",
    "print(\"L'écart type de l'échantillon est de\", str(sample_std))"
   ]
  },
  {
   "cell_type": "markdown",
   "id": "b30c7478",
   "metadata": {},
   "source": [
    "6. Nous calculons t :"
   ]
  },
  {
   "cell_type": "code",
   "execution_count": 18,
   "id": "1f249a29",
   "metadata": {},
   "outputs": [
    {
     "name": "stdout",
     "output_type": "stream",
     "text": [
      "La statistique t est: 3.0233009800374053\n"
     ]
    }
   ],
   "source": [
    "t = (sample_mean - mu)/(sample_std / np.sqrt(n))\n",
    "\n",
    "print(\"La statistique t est:\", t)"
   ]
  },
  {
   "cell_type": "markdown",
   "id": "4aaa9721",
   "metadata": {},
   "source": [
    "7. Cela nous permet ensuite de calculer la p-valeur. Ici, cela nous permettra de rejetter l'hypothèse nulle."
   ]
  },
  {
   "cell_type": "code",
   "execution_count": 21,
   "id": "9f4c4ed3",
   "metadata": {},
   "outputs": [
    {
     "name": "stdout",
     "output_type": "stream",
     "text": [
      "La p-valeur est: 0.002590259537786662\n",
      "Avec un seuil alpha 0.05 on rejette l'hypothèse nulle.\n",
      "Statistiquement parlant, les passagers du Titanic ont un âge moyen qui n'est pas dans celui de la population.\n"
     ]
    }
   ],
   "source": [
    "p_valeur = stats.t.cdf(-abs(t), df=n-1) * 2\n",
    "alpha = 0.05\n",
    "\n",
    "print(\"La p-valeur est:\", p_valeur)\n",
    "\n",
    "# Si p-valeur < alpha, on rejète l'hypothèse nulle\n",
    "if p_valeur < alpha:\n",
    "    print(\"Avec un seuil alpha\", str(alpha), \"on rejette l'hypothèse nulle.\")\n",
    "    print(\"Statistiquement parlant, les passagers du Titanic ont un âge moyen qui n'est pas dans celui de la population.\")\n",
    "    \n",
    "# Si p-valeur > alpha, on ne rejète pas l'hypothèse nulle\n",
    "else:\n",
    "    print(\"Avec un seuil alpha\", str(alpha), \"on ne rejette pas l'hypothèse nulle.\")"
   ]
  },
  {
   "cell_type": "markdown",
   "id": "c990a68c",
   "metadata": {},
   "source": [
    "8. Avec une p-value inférieure à 5%, nous possédons assez de preuve pour rejetter l'affirmation selon laquelle l'âge moyen des passagers du Titanic est la même que celui de la population mondiale en 1912. Nous allons évaluer la taille de l'effet grâce à l'équation de Cohen."
   ]
  },
  {
   "cell_type": "markdown",
   "id": "e89da288",
   "metadata": {},
   "source": [
    "$$\n",
    "d = \\frac{{\\bar{x}_1 - \\bar{x}_2}}{{s}}\n",
    "$$"
   ]
  },
  {
   "cell_type": "code",
   "execution_count": 25,
   "id": "1e84716d",
   "metadata": {},
   "outputs": [
    {
     "name": "stdout",
     "output_type": "stream",
     "text": [
      "Cohen's d: 0.11330299449551398 The effect size is small.\n"
     ]
    }
   ],
   "source": [
    "cohens_d = (sample_mean - mu) / sample_std\n",
    "\n",
    "interpretation = \"\"\n",
    "if abs(cohens_d) <= 0.3:\n",
    "    interpretation = \"The effect size is small.\"\n",
    "elif abs(cohens_d) <= 0.5:\n",
    "    interpretation = \"The effect size is medium.\"\n",
    "else:\n",
    "    interpretation = \"The effect size is large.\"\n",
    "print(\"Cohen's d:\", cohens_d, interpretation)"
   ]
  },
  {
   "cell_type": "markdown",
   "id": "f158dc66",
   "metadata": {},
   "source": [
    "\n",
    "Cela indique que l'âge moyen de la population du Titanic est relativement similaire à l'âge moyen de la population mondiale."
   ]
  },
  {
   "cell_type": "markdown",
   "id": "7ec7b55f",
   "metadata": {},
   "source": [
    "**Q2: La survie dépend-elle de la classe du passager?**"
   ]
  },
  {
   "cell_type": "markdown",
   "id": "9c9548e3",
   "metadata": {},
   "source": [
    "1. Les variables d'intérêts sont Pclass et Survived. \n",
    "    Pclass est une variable qualitative ordinale\n",
    "    Survived est une variable qualitative nominale"
   ]
  },
  {
   "cell_type": "markdown",
   "id": "c6fb14cc",
   "metadata": {},
   "source": [
    "2. Nous avons choisi de représenter ces variables avec un \"grouped bar chart\""
   ]
  },
  {
   "cell_type": "code",
   "execution_count": 28,
   "id": "855f2ca0",
   "metadata": {},
   "outputs": [
    {
     "ename": "ValueError",
     "evalue": "Could not interpret input 'Status'",
     "output_type": "error",
     "traceback": [
      "\u001b[0;31m---------------------------------------------------------------------------\u001b[0m",
      "\u001b[0;31mValueError\u001b[0m                                Traceback (most recent call last)",
      "Cell \u001b[0;32mIn[28], line 4\u001b[0m\n\u001b[1;32m      1\u001b[0m data_clean[\u001b[38;5;124m'\u001b[39m\u001b[38;5;124mSurvivalStatus\u001b[39m\u001b[38;5;124m'\u001b[39m] \u001b[38;5;241m=\u001b[39m data_clean[\u001b[38;5;124m'\u001b[39m\u001b[38;5;124mSurvived\u001b[39m\u001b[38;5;124m'\u001b[39m]\u001b[38;5;241m.\u001b[39mapply(\u001b[38;5;28;01mlambda\u001b[39;00m x: \u001b[38;5;124m'\u001b[39m\u001b[38;5;124mSurvived\u001b[39m\u001b[38;5;124m'\u001b[39m \u001b[38;5;28;01mif\u001b[39;00m x \u001b[38;5;241m==\u001b[39m \u001b[38;5;241m1\u001b[39m \u001b[38;5;28;01melse\u001b[39;00m \u001b[38;5;124m'\u001b[39m\u001b[38;5;124mDeceased\u001b[39m\u001b[38;5;124m'\u001b[39m)\n\u001b[1;32m      3\u001b[0m plt\u001b[38;5;241m.\u001b[39mfigure(figsize\u001b[38;5;241m=\u001b[39m(\u001b[38;5;241m8\u001b[39m,\u001b[38;5;241m6\u001b[39m))\n\u001b[0;32m----> 4\u001b[0m sns\u001b[38;5;241m.\u001b[39mcountplot(data\u001b[38;5;241m=\u001b[39mdata_clean, x\u001b[38;5;241m=\u001b[39m\u001b[38;5;124m'\u001b[39m\u001b[38;5;124mPclass\u001b[39m\u001b[38;5;124m'\u001b[39m, hue\u001b[38;5;241m=\u001b[39m\u001b[38;5;124m'\u001b[39m\u001b[38;5;124mStatus\u001b[39m\u001b[38;5;124m'\u001b[39m)\n\u001b[1;32m      5\u001b[0m plt\u001b[38;5;241m.\u001b[39mtitle(\u001b[38;5;124m'\u001b[39m\u001b[38;5;124mSurvie des passagers par classe\u001b[39m\u001b[38;5;124m'\u001b[39m)\n\u001b[1;32m      6\u001b[0m plt\u001b[38;5;241m.\u001b[39mxlabel(\u001b[38;5;124m'\u001b[39m\u001b[38;5;124mClasse\u001b[39m\u001b[38;5;124m'\u001b[39m)\n",
      "File \u001b[0;32m~/anaconda3/lib/python3.11/site-packages/seaborn/categorical.py:2943\u001b[0m, in \u001b[0;36mcountplot\u001b[0;34m(data, x, y, hue, order, hue_order, orient, color, palette, saturation, width, dodge, ax, **kwargs)\u001b[0m\n\u001b[1;32m   2940\u001b[0m \u001b[38;5;28;01melif\u001b[39;00m x \u001b[38;5;129;01mis\u001b[39;00m \u001b[38;5;129;01mnot\u001b[39;00m \u001b[38;5;28;01mNone\u001b[39;00m \u001b[38;5;129;01mand\u001b[39;00m y \u001b[38;5;129;01mis\u001b[39;00m \u001b[38;5;129;01mnot\u001b[39;00m \u001b[38;5;28;01mNone\u001b[39;00m:\n\u001b[1;32m   2941\u001b[0m     \u001b[38;5;28;01mraise\u001b[39;00m \u001b[38;5;167;01mValueError\u001b[39;00m(\u001b[38;5;124m\"\u001b[39m\u001b[38;5;124mCannot pass values for both `x` and `y`\u001b[39m\u001b[38;5;124m\"\u001b[39m)\n\u001b[0;32m-> 2943\u001b[0m plotter \u001b[38;5;241m=\u001b[39m _CountPlotter(\n\u001b[1;32m   2944\u001b[0m     x, y, hue, data, order, hue_order,\n\u001b[1;32m   2945\u001b[0m     estimator, errorbar, n_boot, units, seed,\n\u001b[1;32m   2946\u001b[0m     orient, color, palette, saturation,\n\u001b[1;32m   2947\u001b[0m     width, errcolor, errwidth, capsize, dodge\n\u001b[1;32m   2948\u001b[0m )\n\u001b[1;32m   2950\u001b[0m plotter\u001b[38;5;241m.\u001b[39mvalue_label \u001b[38;5;241m=\u001b[39m \u001b[38;5;124m\"\u001b[39m\u001b[38;5;124mcount\u001b[39m\u001b[38;5;124m\"\u001b[39m\n\u001b[1;32m   2952\u001b[0m \u001b[38;5;28;01mif\u001b[39;00m ax \u001b[38;5;129;01mis\u001b[39;00m \u001b[38;5;28;01mNone\u001b[39;00m:\n",
      "File \u001b[0;32m~/anaconda3/lib/python3.11/site-packages/seaborn/categorical.py:1530\u001b[0m, in \u001b[0;36m_BarPlotter.__init__\u001b[0;34m(self, x, y, hue, data, order, hue_order, estimator, errorbar, n_boot, units, seed, orient, color, palette, saturation, width, errcolor, errwidth, capsize, dodge)\u001b[0m\n\u001b[1;32m   1525\u001b[0m \u001b[38;5;28;01mdef\u001b[39;00m \u001b[38;5;21m__init__\u001b[39m(\u001b[38;5;28mself\u001b[39m, x, y, hue, data, order, hue_order,\n\u001b[1;32m   1526\u001b[0m              estimator, errorbar, n_boot, units, seed,\n\u001b[1;32m   1527\u001b[0m              orient, color, palette, saturation, width,\n\u001b[1;32m   1528\u001b[0m              errcolor, errwidth, capsize, dodge):\n\u001b[1;32m   1529\u001b[0m \u001b[38;5;250m    \u001b[39m\u001b[38;5;124;03m\"\"\"Initialize the plotter.\"\"\"\u001b[39;00m\n\u001b[0;32m-> 1530\u001b[0m     \u001b[38;5;28mself\u001b[39m\u001b[38;5;241m.\u001b[39mestablish_variables(x, y, hue, data, orient,\n\u001b[1;32m   1531\u001b[0m                              order, hue_order, units)\n\u001b[1;32m   1532\u001b[0m     \u001b[38;5;28mself\u001b[39m\u001b[38;5;241m.\u001b[39mestablish_colors(color, palette, saturation)\n\u001b[1;32m   1533\u001b[0m     \u001b[38;5;28mself\u001b[39m\u001b[38;5;241m.\u001b[39mestimate_statistic(estimator, errorbar, n_boot, seed)\n",
      "File \u001b[0;32m~/anaconda3/lib/python3.11/site-packages/seaborn/categorical.py:541\u001b[0m, in \u001b[0;36m_CategoricalPlotter.establish_variables\u001b[0;34m(self, x, y, hue, data, orient, order, hue_order, units)\u001b[0m\n\u001b[1;32m    539\u001b[0m     \u001b[38;5;28;01mif\u001b[39;00m \u001b[38;5;28misinstance\u001b[39m(var, \u001b[38;5;28mstr\u001b[39m):\n\u001b[1;32m    540\u001b[0m         err \u001b[38;5;241m=\u001b[39m \u001b[38;5;124mf\u001b[39m\u001b[38;5;124m\"\u001b[39m\u001b[38;5;124mCould not interpret input \u001b[39m\u001b[38;5;124m'\u001b[39m\u001b[38;5;132;01m{\u001b[39;00mvar\u001b[38;5;132;01m}\u001b[39;00m\u001b[38;5;124m'\u001b[39m\u001b[38;5;124m\"\u001b[39m\n\u001b[0;32m--> 541\u001b[0m         \u001b[38;5;28;01mraise\u001b[39;00m \u001b[38;5;167;01mValueError\u001b[39;00m(err)\n\u001b[1;32m    543\u001b[0m \u001b[38;5;66;03m# Figure out the plotting orientation\u001b[39;00m\n\u001b[1;32m    544\u001b[0m orient \u001b[38;5;241m=\u001b[39m infer_orient(\n\u001b[1;32m    545\u001b[0m     x, y, orient, require_numeric\u001b[38;5;241m=\u001b[39m\u001b[38;5;28mself\u001b[39m\u001b[38;5;241m.\u001b[39mrequire_numeric\n\u001b[1;32m    546\u001b[0m )\n",
      "\u001b[0;31mValueError\u001b[0m: Could not interpret input 'Status'"
     ]
    },
    {
     "data": {
      "text/plain": [
       "<Figure size 800x600 with 0 Axes>"
      ]
     },
     "metadata": {},
     "output_type": "display_data"
    }
   ],
   "source": [
    "data_clean['SurvivalStatus'] = data_clean['Survived'].apply(lambda x: 'Survived' if x == 1 else 'Deceased')\n",
    "\n",
    "plt.figure(figsize=(8,6))\n",
    "sns.countplot(data=data_clean, x='Pclass', hue='SurvivalStatus')\n",
    "plt.title('Survie des passagers par classe')\n",
    "plt.xlabel('Classe')\n",
    "plt.ylabel('Nombre de passagers')\n",
    "plt.show()"
   ]
  },
  {
   "cell_type": "markdown",
   "id": "6dba1f3c",
   "metadata": {},
   "source": [
    "**Q3: Existe-t-il une différence d'âge entre les passagers qui ont survécu et les passagers décédés?**"
   ]
  },
  {
   "cell_type": "markdown",
   "id": "5425c746",
   "metadata": {},
   "source": [
    "**Q4: Existe-t-il une relation entre l'âge des passagers et le prix des billets?**"
   ]
  },
  {
   "cell_type": "markdown",
   "id": "29f6871f",
   "metadata": {},
   "source": [
    "Pour chacune des questions 1 à 4 ci-dessus, argumenter de manière statistique en effectuant chacune des étapes suivantes:\n",
    "1. Identifier la ou les variables d'intérêt et spécifier le type.\n",
    "2. Réaliser une visualisation appropriée selon la ou les variables.\n",
    "3. Enoncer une hypothèse nulle et une hypothèse alternative considérant la ou les variables identifiées.\n",
    "4. Identifier le test statistique approprié selon les hypothèses énoncées.\n",
    "5. Vérifier la validation des assumptions selon le test identifié.\n",
    "6. Calculer la statistique ainsi que la p-valeur.\n",
    "7. Prendre une décision à partir de la p-valeur et d'un seuil alpha de 5%.\n",
    "8. Interpréter le résultat et évaluer la taille de l'effet."
   ]
  },
  {
   "cell_type": "markdown",
   "id": "493516ca",
   "metadata": {},
   "source": [
    "Quelques liens utiles pour la taille de l'effet:\n",
    "* [https://rpsychologist.com/cohend/](https://rpsychologist.com/cohend/)\n",
    "* [https://datatab.net/tutorial/effect-size-independent-t-test](https://datatab.net/tutorial/effect-size-independent-t-test)\n",
    "* [https://www.simplypsychology.org/effect-size.html](https://www.simplypsychology.org/effect-size.html)"
   ]
  },
  {
   "cell_type": "markdown",
   "id": "740c3ff2",
   "metadata": {},
   "source": [
    "## 3. Data mining (2 pts)"
   ]
  },
  {
   "cell_type": "markdown",
   "id": "6f89920e",
   "metadata": {},
   "source": [
    "**Q1: Effectuer une analyse statistique à l'aide de la régression logistique avec comme variable dépendente la variable `Survived`. Interpréter les coefficients et discuter de leur importance statistique en vous appuyant sur leur p-valeur.**"
   ]
  },
  {
   "cell_type": "markdown",
   "id": "0d66b468",
   "metadata": {},
   "source": [
    "**Q2: Effecter une analyse statistique à l'aide d'un arbre de classification avec comme variable dépendente la variable `Survived` et une profondeur maximale de 4. Visualiser l'arbre et expliquer quelques décisions.**"
   ]
  },
  {
   "cell_type": "markdown",
   "id": "42c0a724",
   "metadata": {},
   "source": [
    "**Conclusion: Interpréter les résultats des deux analyses statistiques et résumer les points importants de votre étude.**"
   ]
  }
 ],
 "metadata": {
  "kernelspec": {
   "display_name": "Python 3 (ipykernel)",
   "language": "python",
   "name": "python3"
  },
  "language_info": {
   "codemirror_mode": {
    "name": "ipython",
    "version": 3
   },
   "file_extension": ".py",
   "mimetype": "text/x-python",
   "name": "python",
   "nbconvert_exporter": "python",
   "pygments_lexer": "ipython3",
   "version": "3.11.5"
  }
 },
 "nbformat": 4,
 "nbformat_minor": 5
}
