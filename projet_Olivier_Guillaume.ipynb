{
 "cells": [
  {
   "cell_type": "markdown",
   "id": "7dbba591",
   "metadata": {},
   "source": [
    "# Importer les librairies"
   ]
  },
  {
   "cell_type": "code",
   "execution_count": 3,
   "id": "0e1c95d0",
   "metadata": {
    "ExecuteTime": {
     "end_time": "2024-02-27T10:12:38.404672Z",
     "start_time": "2024-02-27T10:12:38.396768Z"
    }
   },
   "outputs": [],
   "source": [
    "import pandas as pd \n",
    "import os\n",
    "import seaborn as sns\n",
    "import matplotlib.pyplot as plt\n",
    "import statsmodels.api as sm\n",
    "import numpy as np\n",
    "from scipy import stats\n",
    "from sklearn.tree import DecisionTreeClassifier, plot_tree"
   ]
  },
  {
   "cell_type": "markdown",
   "id": "3abf0329",
   "metadata": {},
   "source": [
    "# Importer les données"
   ]
  },
  {
   "cell_type": "code",
   "execution_count": 38,
   "id": "1066b6ec",
   "metadata": {
    "ExecuteTime": {
     "end_time": "2024-02-27T10:22:44.438006Z",
     "start_time": "2024-02-27T10:22:44.391771Z"
    }
   },
   "outputs": [
    {
     "data": {
      "text/html": [
       "<div>\n",
       "<style scoped>\n",
       "    .dataframe tbody tr th:only-of-type {\n",
       "        vertical-align: middle;\n",
       "    }\n",
       "\n",
       "    .dataframe tbody tr th {\n",
       "        vertical-align: top;\n",
       "    }\n",
       "\n",
       "    .dataframe thead th {\n",
       "        text-align: right;\n",
       "    }\n",
       "</style>\n",
       "<table border=\"1\" class=\"dataframe\">\n",
       "  <thead>\n",
       "    <tr style=\"text-align: right;\">\n",
       "      <th></th>\n",
       "      <th>PassengerId</th>\n",
       "      <th>Survived</th>\n",
       "      <th>Pclass</th>\n",
       "      <th>Name</th>\n",
       "      <th>Sex</th>\n",
       "      <th>Age</th>\n",
       "      <th>SibSp</th>\n",
       "      <th>Parch</th>\n",
       "      <th>Ticket</th>\n",
       "      <th>Fare</th>\n",
       "      <th>Cabin</th>\n",
       "      <th>Embarked</th>\n",
       "    </tr>\n",
       "  </thead>\n",
       "  <tbody>\n",
       "    <tr>\n",
       "      <th>0</th>\n",
       "      <td>1</td>\n",
       "      <td>0</td>\n",
       "      <td>3</td>\n",
       "      <td>Braund, Mr. Owen Harris</td>\n",
       "      <td>male</td>\n",
       "      <td>22.0</td>\n",
       "      <td>1</td>\n",
       "      <td>0</td>\n",
       "      <td>A/5 21171</td>\n",
       "      <td>7.2500</td>\n",
       "      <td>NaN</td>\n",
       "      <td>S</td>\n",
       "    </tr>\n",
       "    <tr>\n",
       "      <th>1</th>\n",
       "      <td>2</td>\n",
       "      <td>1</td>\n",
       "      <td>1</td>\n",
       "      <td>Cumings, Mrs. John Bradley (Florence Briggs Th...</td>\n",
       "      <td>female</td>\n",
       "      <td>38.0</td>\n",
       "      <td>1</td>\n",
       "      <td>0</td>\n",
       "      <td>PC 17599</td>\n",
       "      <td>71.2833</td>\n",
       "      <td>C85</td>\n",
       "      <td>C</td>\n",
       "    </tr>\n",
       "    <tr>\n",
       "      <th>2</th>\n",
       "      <td>3</td>\n",
       "      <td>1</td>\n",
       "      <td>3</td>\n",
       "      <td>Heikkinen, Miss. Laina</td>\n",
       "      <td>female</td>\n",
       "      <td>26.0</td>\n",
       "      <td>0</td>\n",
       "      <td>0</td>\n",
       "      <td>STON/O2. 3101282</td>\n",
       "      <td>7.9250</td>\n",
       "      <td>NaN</td>\n",
       "      <td>S</td>\n",
       "    </tr>\n",
       "    <tr>\n",
       "      <th>3</th>\n",
       "      <td>4</td>\n",
       "      <td>1</td>\n",
       "      <td>1</td>\n",
       "      <td>Futrelle, Mrs. Jacques Heath (Lily May Peel)</td>\n",
       "      <td>female</td>\n",
       "      <td>35.0</td>\n",
       "      <td>1</td>\n",
       "      <td>0</td>\n",
       "      <td>113803</td>\n",
       "      <td>53.1000</td>\n",
       "      <td>C123</td>\n",
       "      <td>S</td>\n",
       "    </tr>\n",
       "    <tr>\n",
       "      <th>4</th>\n",
       "      <td>5</td>\n",
       "      <td>0</td>\n",
       "      <td>3</td>\n",
       "      <td>Allen, Mr. William Henry</td>\n",
       "      <td>male</td>\n",
       "      <td>35.0</td>\n",
       "      <td>0</td>\n",
       "      <td>0</td>\n",
       "      <td>373450</td>\n",
       "      <td>8.0500</td>\n",
       "      <td>NaN</td>\n",
       "      <td>S</td>\n",
       "    </tr>\n",
       "    <tr>\n",
       "      <th>...</th>\n",
       "      <td>...</td>\n",
       "      <td>...</td>\n",
       "      <td>...</td>\n",
       "      <td>...</td>\n",
       "      <td>...</td>\n",
       "      <td>...</td>\n",
       "      <td>...</td>\n",
       "      <td>...</td>\n",
       "      <td>...</td>\n",
       "      <td>...</td>\n",
       "      <td>...</td>\n",
       "      <td>...</td>\n",
       "    </tr>\n",
       "    <tr>\n",
       "      <th>886</th>\n",
       "      <td>887</td>\n",
       "      <td>0</td>\n",
       "      <td>2</td>\n",
       "      <td>Montvila, Rev. Juozas</td>\n",
       "      <td>male</td>\n",
       "      <td>27.0</td>\n",
       "      <td>0</td>\n",
       "      <td>0</td>\n",
       "      <td>211536</td>\n",
       "      <td>13.0000</td>\n",
       "      <td>NaN</td>\n",
       "      <td>S</td>\n",
       "    </tr>\n",
       "    <tr>\n",
       "      <th>887</th>\n",
       "      <td>888</td>\n",
       "      <td>1</td>\n",
       "      <td>1</td>\n",
       "      <td>Graham, Miss. Margaret Edith</td>\n",
       "      <td>female</td>\n",
       "      <td>19.0</td>\n",
       "      <td>0</td>\n",
       "      <td>0</td>\n",
       "      <td>112053</td>\n",
       "      <td>30.0000</td>\n",
       "      <td>B42</td>\n",
       "      <td>S</td>\n",
       "    </tr>\n",
       "    <tr>\n",
       "      <th>888</th>\n",
       "      <td>889</td>\n",
       "      <td>0</td>\n",
       "      <td>3</td>\n",
       "      <td>Johnston, Miss. Catherine Helen \"Carrie\"</td>\n",
       "      <td>female</td>\n",
       "      <td>NaN</td>\n",
       "      <td>1</td>\n",
       "      <td>2</td>\n",
       "      <td>W./C. 6607</td>\n",
       "      <td>23.4500</td>\n",
       "      <td>NaN</td>\n",
       "      <td>S</td>\n",
       "    </tr>\n",
       "    <tr>\n",
       "      <th>889</th>\n",
       "      <td>890</td>\n",
       "      <td>1</td>\n",
       "      <td>1</td>\n",
       "      <td>Behr, Mr. Karl Howell</td>\n",
       "      <td>male</td>\n",
       "      <td>26.0</td>\n",
       "      <td>0</td>\n",
       "      <td>0</td>\n",
       "      <td>111369</td>\n",
       "      <td>30.0000</td>\n",
       "      <td>C148</td>\n",
       "      <td>C</td>\n",
       "    </tr>\n",
       "    <tr>\n",
       "      <th>890</th>\n",
       "      <td>891</td>\n",
       "      <td>0</td>\n",
       "      <td>3</td>\n",
       "      <td>Dooley, Mr. Patrick</td>\n",
       "      <td>male</td>\n",
       "      <td>32.0</td>\n",
       "      <td>0</td>\n",
       "      <td>0</td>\n",
       "      <td>370376</td>\n",
       "      <td>7.7500</td>\n",
       "      <td>NaN</td>\n",
       "      <td>Q</td>\n",
       "    </tr>\n",
       "  </tbody>\n",
       "</table>\n",
       "<p>891 rows × 12 columns</p>\n",
       "</div>"
      ],
      "text/plain": [
       "     PassengerId  Survived  Pclass  \\\n",
       "0              1         0       3   \n",
       "1              2         1       1   \n",
       "2              3         1       3   \n",
       "3              4         1       1   \n",
       "4              5         0       3   \n",
       "..           ...       ...     ...   \n",
       "886          887         0       2   \n",
       "887          888         1       1   \n",
       "888          889         0       3   \n",
       "889          890         1       1   \n",
       "890          891         0       3   \n",
       "\n",
       "                                                  Name     Sex   Age  SibSp  \\\n",
       "0                              Braund, Mr. Owen Harris    male  22.0      1   \n",
       "1    Cumings, Mrs. John Bradley (Florence Briggs Th...  female  38.0      1   \n",
       "2                               Heikkinen, Miss. Laina  female  26.0      0   \n",
       "3         Futrelle, Mrs. Jacques Heath (Lily May Peel)  female  35.0      1   \n",
       "4                             Allen, Mr. William Henry    male  35.0      0   \n",
       "..                                                 ...     ...   ...    ...   \n",
       "886                              Montvila, Rev. Juozas    male  27.0      0   \n",
       "887                       Graham, Miss. Margaret Edith  female  19.0      0   \n",
       "888           Johnston, Miss. Catherine Helen \"Carrie\"  female   NaN      1   \n",
       "889                              Behr, Mr. Karl Howell    male  26.0      0   \n",
       "890                                Dooley, Mr. Patrick    male  32.0      0   \n",
       "\n",
       "     Parch            Ticket     Fare Cabin Embarked  \n",
       "0        0         A/5 21171   7.2500   NaN        S  \n",
       "1        0          PC 17599  71.2833   C85        C  \n",
       "2        0  STON/O2. 3101282   7.9250   NaN        S  \n",
       "3        0            113803  53.1000  C123        S  \n",
       "4        0            373450   8.0500   NaN        S  \n",
       "..     ...               ...      ...   ...      ...  \n",
       "886      0            211536  13.0000   NaN        S  \n",
       "887      0            112053  30.0000   B42        S  \n",
       "888      2        W./C. 6607  23.4500   NaN        S  \n",
       "889      0            111369  30.0000  C148        C  \n",
       "890      0            370376   7.7500   NaN        Q  \n",
       "\n",
       "[891 rows x 12 columns]"
      ]
     },
     "execution_count": 38,
     "metadata": {},
     "output_type": "execute_result"
    }
   ],
   "source": [
    "data = pd.read_csv(\"Data/titanic.csv\")\n",
    "data"
   ]
  },
  {
   "cell_type": "markdown",
   "id": "05045c73",
   "metadata": {},
   "source": [
    "# Questions"
   ]
  },
  {
   "cell_type": "markdown",
   "id": "a164d862",
   "metadata": {},
   "source": [
    "## 1. Préparation des données\n",
    "\n",
    "Remplissez la function `preprocess` ci-dessus. Celle-ci doit:\n",
    "1. Supprimez les colonnes `PassengerId`, `Name`, `Ticket`, `Cabin`.\n",
    "2. Supprimez les lignes contenant au moins une valeur manquante.\n",
    "3. Créer une variable `FamilySize` qui est correspond à `SibSp` + `Parch` + 1. Supprimez les variables `SibSp` et `Parch`.\n",
    "4. Recalculer le prix du billet `Fare` en divisant `Fare` par `FamilySize`.\n",
    "5. Encoder les variables qualitatives `Sex`, `Embarked` et `Pclass` avec l'argument `drop_first=True`."
   ]
  },
  {
   "cell_type": "code",
   "execution_count": 39,
   "id": "d4299600",
   "metadata": {
    "ExecuteTime": {
     "end_time": "2024-02-27T10:22:48.316310Z",
     "start_time": "2024-02-27T10:22:48.297719Z"
    }
   },
   "outputs": [],
   "source": [
    "def preprocess(data: pd.DataFrame) -> pd.DataFrame:\n",
    "    \n",
    "    \"\"\"La fonction prépare les données à l'analyse.\n",
    "    \n",
    "    Args:\n",
    "        data (pd.DataFrame): La dataframe originale\n",
    "        \n",
    "    Returns:\n",
    "        pd.DataFrame: La dataframe preprocessée et prête à être analysée.\n",
    "    \"\"\"\n",
    "    # Faire une copie de la dataframe originale\n",
    "    data_preprocessed = data.copy()\n",
    "    \n",
    "    # Supprimer les variables `PassengerId`, `Name`, `Ticket` & `Cabin`\n",
    "    data_preprocessed.drop(columns=[\"PassengerId\", \"Name\", \"Ticket\", \"Cabin\"], inplace=True)\n",
    "    \n",
    "    # Supprimer les lignes contenant au moins une valeur manquante\n",
    "    data_preprocessed = data_preprocessed.dropna(axis=0) \n",
    "\n",
    "    # Créer une variable `FamilySize` et supprimer les variables `SibSp` et `Parch`\n",
    "    data_preprocessed['FamilySize'] = data_preprocessed['SibSp'] + data_preprocessed['Parch'] + 1\n",
    "    data_preprocessed.drop(['SibSp', 'Parch'], axis=1, inplace=True)\n",
    "    \n",
    "    # Recalculer le prix du billet\n",
    "    data_preprocessed['Fare'] = data_preprocessed['Fare'] / data_preprocessed['FamilySize'].where(data_preprocessed['FamilySize'] != 0, 1)\n",
    "    \n",
    "    # One-hot encoding de `Sex`, `Embarked` et `Pclass`\n",
    "    data_preprocessed = pd.get_dummies(data_preprocessed, columns=['Sex', 'Embarked'], drop_first=True, dtype=int)\n",
    "\n",
    "    \n",
    "\n",
    "    \n",
    "    # CHECK: NE PAS TOUCHER\n",
    "    for col in [\"PassengerId\", \"Name\", \"Ticket\", \"Cabin\", \"SibSp\", \"Parch\"]:\n",
    "        assert col not in data_preprocessed, f\"{col} n'a pas été retiré.\"\n",
    "    assert data_preprocessed.isna().sum().sum() == 0, \"Il reste encore des NaN à supprimer.\"\n",
    "    assert \"FamilySize\" in data_preprocessed.columns, \"La colonne `FamilySize` n'a pas été créée.\"\n",
    "    assert data_preprocessed.loc[0, \"Fare\"] == 3.625, \"La colonne `Fare` n'a pas été recalculée.\"\n",
    "    for col in [col for col in data_preprocessed if col.startswith(\"Embarked\")]:\n",
    "        assert data_preprocessed[col].nunique() == 2, f\"{col} n'a pas été encodé.\"\n",
    "    for col in [col for col in data_preprocessed if col.startswith(\"Sex\")]:\n",
    "        assert data_preprocessed[col].nunique() == 2, f\"{col} n'a pas été encodé.\"\n",
    "\n",
    "    \n",
    "    return data_preprocessed"
   ]
  },
  {
   "cell_type": "markdown",
   "id": "35ca88d2",
   "metadata": {},
   "source": [
    "\n",
    "Le résultat de la function doit vous donner exactement le tableau ci-dessous."
   ]
  },
  {
   "cell_type": "code",
   "execution_count": 6,
   "id": "53b7ef06",
   "metadata": {
    "ExecuteTime": {
     "end_time": "2024-02-27T10:22:50.869100Z",
     "start_time": "2024-02-27T10:22:50.816436Z"
    }
   },
   "outputs": [
    {
     "data": {
      "text/html": [
       "<div>\n",
       "<style scoped>\n",
       "    .dataframe tbody tr th:only-of-type {\n",
       "        vertical-align: middle;\n",
       "    }\n",
       "\n",
       "    .dataframe tbody tr th {\n",
       "        vertical-align: top;\n",
       "    }\n",
       "\n",
       "    .dataframe thead th {\n",
       "        text-align: right;\n",
       "    }\n",
       "</style>\n",
       "<table border=\"1\" class=\"dataframe\">\n",
       "  <thead>\n",
       "    <tr style=\"text-align: right;\">\n",
       "      <th></th>\n",
       "      <th>Survived</th>\n",
       "      <th>Pclass</th>\n",
       "      <th>Age</th>\n",
       "      <th>Fare</th>\n",
       "      <th>FamilySize</th>\n",
       "      <th>Sex_male</th>\n",
       "      <th>Embarked_Q</th>\n",
       "      <th>Embarked_S</th>\n",
       "    </tr>\n",
       "  </thead>\n",
       "  <tbody>\n",
       "    <tr>\n",
       "      <th>0</th>\n",
       "      <td>0</td>\n",
       "      <td>3</td>\n",
       "      <td>22.0</td>\n",
       "      <td>3.625000</td>\n",
       "      <td>2</td>\n",
       "      <td>1</td>\n",
       "      <td>0</td>\n",
       "      <td>1</td>\n",
       "    </tr>\n",
       "    <tr>\n",
       "      <th>1</th>\n",
       "      <td>1</td>\n",
       "      <td>1</td>\n",
       "      <td>38.0</td>\n",
       "      <td>35.641650</td>\n",
       "      <td>2</td>\n",
       "      <td>0</td>\n",
       "      <td>0</td>\n",
       "      <td>0</td>\n",
       "    </tr>\n",
       "    <tr>\n",
       "      <th>2</th>\n",
       "      <td>1</td>\n",
       "      <td>3</td>\n",
       "      <td>26.0</td>\n",
       "      <td>7.925000</td>\n",
       "      <td>1</td>\n",
       "      <td>0</td>\n",
       "      <td>0</td>\n",
       "      <td>1</td>\n",
       "    </tr>\n",
       "    <tr>\n",
       "      <th>3</th>\n",
       "      <td>1</td>\n",
       "      <td>1</td>\n",
       "      <td>35.0</td>\n",
       "      <td>26.550000</td>\n",
       "      <td>2</td>\n",
       "      <td>0</td>\n",
       "      <td>0</td>\n",
       "      <td>1</td>\n",
       "    </tr>\n",
       "    <tr>\n",
       "      <th>4</th>\n",
       "      <td>0</td>\n",
       "      <td>3</td>\n",
       "      <td>35.0</td>\n",
       "      <td>8.050000</td>\n",
       "      <td>1</td>\n",
       "      <td>1</td>\n",
       "      <td>0</td>\n",
       "      <td>1</td>\n",
       "    </tr>\n",
       "    <tr>\n",
       "      <th>...</th>\n",
       "      <td>...</td>\n",
       "      <td>...</td>\n",
       "      <td>...</td>\n",
       "      <td>...</td>\n",
       "      <td>...</td>\n",
       "      <td>...</td>\n",
       "      <td>...</td>\n",
       "      <td>...</td>\n",
       "    </tr>\n",
       "    <tr>\n",
       "      <th>885</th>\n",
       "      <td>0</td>\n",
       "      <td>3</td>\n",
       "      <td>39.0</td>\n",
       "      <td>4.854167</td>\n",
       "      <td>6</td>\n",
       "      <td>0</td>\n",
       "      <td>1</td>\n",
       "      <td>0</td>\n",
       "    </tr>\n",
       "    <tr>\n",
       "      <th>886</th>\n",
       "      <td>0</td>\n",
       "      <td>2</td>\n",
       "      <td>27.0</td>\n",
       "      <td>13.000000</td>\n",
       "      <td>1</td>\n",
       "      <td>1</td>\n",
       "      <td>0</td>\n",
       "      <td>1</td>\n",
       "    </tr>\n",
       "    <tr>\n",
       "      <th>887</th>\n",
       "      <td>1</td>\n",
       "      <td>1</td>\n",
       "      <td>19.0</td>\n",
       "      <td>30.000000</td>\n",
       "      <td>1</td>\n",
       "      <td>0</td>\n",
       "      <td>0</td>\n",
       "      <td>1</td>\n",
       "    </tr>\n",
       "    <tr>\n",
       "      <th>889</th>\n",
       "      <td>1</td>\n",
       "      <td>1</td>\n",
       "      <td>26.0</td>\n",
       "      <td>30.000000</td>\n",
       "      <td>1</td>\n",
       "      <td>1</td>\n",
       "      <td>0</td>\n",
       "      <td>0</td>\n",
       "    </tr>\n",
       "    <tr>\n",
       "      <th>890</th>\n",
       "      <td>0</td>\n",
       "      <td>3</td>\n",
       "      <td>32.0</td>\n",
       "      <td>7.750000</td>\n",
       "      <td>1</td>\n",
       "      <td>1</td>\n",
       "      <td>1</td>\n",
       "      <td>0</td>\n",
       "    </tr>\n",
       "  </tbody>\n",
       "</table>\n",
       "<p>712 rows × 8 columns</p>\n",
       "</div>"
      ],
      "text/plain": [
       "     Survived  Pclass   Age       Fare  FamilySize  Sex_male  Embarked_Q  \\\n",
       "0           0       3  22.0   3.625000           2         1           0   \n",
       "1           1       1  38.0  35.641650           2         0           0   \n",
       "2           1       3  26.0   7.925000           1         0           0   \n",
       "3           1       1  35.0  26.550000           2         0           0   \n",
       "4           0       3  35.0   8.050000           1         1           0   \n",
       "..        ...     ...   ...        ...         ...       ...         ...   \n",
       "885         0       3  39.0   4.854167           6         0           1   \n",
       "886         0       2  27.0  13.000000           1         1           0   \n",
       "887         1       1  19.0  30.000000           1         0           0   \n",
       "889         1       1  26.0  30.000000           1         1           0   \n",
       "890         0       3  32.0   7.750000           1         1           1   \n",
       "\n",
       "     Embarked_S  \n",
       "0             1  \n",
       "1             0  \n",
       "2             1  \n",
       "3             1  \n",
       "4             1  \n",
       "..          ...  \n",
       "885           0  \n",
       "886           1  \n",
       "887           1  \n",
       "889           0  \n",
       "890           0  \n",
       "\n",
       "[712 rows x 8 columns]"
      ]
     },
     "metadata": {},
     "output_type": "display_data"
    }
   ],
   "source": [
    "# Preprocess les données à l'aide de la function `preprocess`\n",
    "data_clean = preprocess(data)\n",
    "display(data_clean)"
   ]
  },
  {
   "cell_type": "markdown",
   "id": "5a1091b1",
   "metadata": {},
   "source": [
    "## 2. Inférence statistique (4 pts)"
   ]
  },
  {
   "cell_type": "markdown",
   "id": "93fdb7b6",
   "metadata": {},
   "source": [
    "**Q1: L'âge moyen des passagers du Titanic est-il le même que l'âge moyen de la population en 1912 (28 ans)?**"
   ]
  },
  {
   "cell_type": "markdown",
   "id": "49053181",
   "metadata": {},
   "source": [
    "1. La variable d'intérêt est l'âge des passagers, c'est une variable de type quantitative.\n",
    "2. Nous avons donc décidé d'utiliser un histogramme afin de la visualiser"
   ]
  },
  {
   "cell_type": "code",
   "execution_count": 7,
   "id": "3e7343de",
   "metadata": {},
   "outputs": [
    {
     "name": "stderr",
     "output_type": "stream",
     "text": [
      "/home/guillaume/anaconda3/lib/python3.11/site-packages/seaborn/_oldcore.py:1119: FutureWarning: use_inf_as_na option is deprecated and will be removed in a future version. Convert inf values to NaN before operating instead.\n",
      "  with pd.option_context('mode.use_inf_as_na', True):\n"
     ]
    },
    {
     "data": {
      "image/png": "[encoded data removed]",
      "text/plain": [
       "<Figure size 1000x600 with 1 Axes>"
      ]
     },
     "metadata": {},
     "output_type": "display_data"
    }
   ],
   "source": [
    "# Créer un histogramme et un KDE pour la variable `Age`\n",
    "plt.figure(figsize=(10,6))\n",
    "sns.histplot(data=data_clean, x='Age', kde=True)\n",
    "plt.title(\"Histogram and KDE for Age\")\n",
    "plt.show()"
   ]
  },
  {
   "cell_type": "markdown",
   "id": "eaf8628a",
   "metadata": {},
   "source": [
    "3. Notre hypothèse nulle est que l'âge moyen des passagers du Titanic est égal à celui de la population en 1912 (28ans). Notre hypothèse alternative est que l'âge moyen des passagers du Titanic n'est pas de 28 ans : "
   ]
  },
  {
   "cell_type": "markdown",
   "id": "31b8702c",
   "metadata": {},
   "source": [
    "\\begin{align*}\n",
    "H_0 &= 28 \\quad et \\quad H_1\\neq 28\n",
    "\\end{align*}"
   ]
  },
  {
   "cell_type": "markdown",
   "id": "4d4941f0",
   "metadata": {},
   "source": [
    "4. Nous allons utiliser un t-test car nous ne possédons pas la variance de la population. Nous utiliserons donc la formule suivante :"
   ]
  },
  {
   "cell_type": "markdown",
   "id": "d5948462",
   "metadata": {},
   "source": [
    "$$ t = \\frac{\\bar{X} - \\mu}{s / \\sqrt{n}} $$\n"
   ]
  },
  {
   "cell_type": "markdown",
   "id": "689a82cd",
   "metadata": {},
   "source": [
    "5. Assumptions :\n",
    "    L'échantillon est aléatoire, dans le sens où nous utilisons l'ensemble d'un jeux de données qui est aléatoire, et les différentes manipulations (retrait des valeurs nulles) n'en altèrent pas l'aléatoire.\n",
    "    La taille de l'échantillon est de 712 passagers (largement supérieur à 30)"
   ]
  },
  {
   "cell_type": "code",
   "execution_count": 8,
   "id": "8d1e6942",
   "metadata": {},
   "outputs": [
    {
     "name": "stdout",
     "output_type": "stream",
     "text": [
      "L'âge moyen est de 29.64209269662921\n",
      "L'écart type de l'échantillon est de 14.49293290032352\n"
     ]
    }
   ],
   "source": [
    "sample_mean = np.mean(data_clean['Age']) \n",
    "sample_std = np.std(data_clean['Age'], ddof=1) \n",
    "mu = 28 \n",
    "n = len(data_clean['Age'])\n",
    "\n",
    "print(\"L'âge moyen est de\", str(sample_mean))\n",
    "print(\"L'écart type de l'échantillon est de\", str(sample_std))"
   ]
  },
  {
   "cell_type": "markdown",
   "id": "b30c7478",
   "metadata": {},
   "source": [
    "6. Nous calculons t :"
   ]
  },
  {
   "cell_type": "code",
   "execution_count": 9,
   "id": "1f249a29",
   "metadata": {},
   "outputs": [
    {
     "name": "stdout",
     "output_type": "stream",
     "text": [
      "La statistique t est: 3.0233009800374053\n"
     ]
    }
   ],
   "source": [
    "t = (sample_mean - mu)/(sample_std / np.sqrt(n))\n",
    "\n",
    "print(\"La statistique t est:\", t)"
   ]
  },
  {
   "cell_type": "markdown",
   "id": "4aaa9721",
   "metadata": {},
   "source": [
    "7. Cela nous permet ensuite de calculer la p-valeur. Ici, cela nous permettra de rejetter l'hypothèse nulle."
   ]
  },
  {
   "cell_type": "code",
   "execution_count": 10,
   "id": "9f4c4ed3",
   "metadata": {},
   "outputs": [
    {
     "name": "stdout",
     "output_type": "stream",
     "text": [
      "La p-valeur est: 0.002590259537786662\n",
      "Avec un seuil alpha 0.05 on rejette l'hypothèse nulle.\n",
      "Statistiquement parlant, les passagers du Titanic ont un âge moyen qui n'est pas dans celui de la population.\n"
     ]
    }
   ],
   "source": [
    "p_valeur = stats.t.cdf(-abs(t), df=n-1) * 2\n",
    "alpha = 0.05\n",
    "\n",
    "print(\"La p-valeur est:\", p_valeur)\n",
    "\n",
    "# Si p-valeur < alpha, on rejète l'hypothèse nulle\n",
    "if p_valeur < alpha:\n",
    "    print(\"Avec un seuil alpha\", str(alpha), \"on rejette l'hypothèse nulle.\")\n",
    "    print(\"Statistiquement parlant, les passagers du Titanic ont un âge moyen qui n'est pas dans celui de la population.\")\n",
    "    \n",
    "# Si p-valeur > alpha, on ne rejète pas l'hypothèse nulle\n",
    "else:\n",
    "    print(\"Avec un seuil alpha\", str(alpha), \"on ne rejette pas l'hypothèse nulle.\")"
   ]
  },
  {
   "cell_type": "markdown",
   "id": "c990a68c",
   "metadata": {},
   "source": [
    "8. Avec une p-value inférieure à 5%, nous possédons assez de preuve pour rejetter l'affirmation selon laquelle l'âge moyen des passagers du Titanic est la même que celui de la population mondiale en 1912. Nous allons évaluer la taille de l'effet grâce à l'équation de Cohen."
   ]
  },
  {
   "cell_type": "markdown",
   "id": "e89da288",
   "metadata": {},
   "source": [
    "$$\n",
    "d = \\frac{{\\bar{x}_1 - \\bar{x}_2}}{{s}}\n",
    "$$"
   ]
  },
  {
   "cell_type": "code",
   "execution_count": 11,
   "id": "1e84716d",
   "metadata": {},
   "outputs": [
    {
     "name": "stdout",
     "output_type": "stream",
     "text": [
      "Cohen's d: 0.11330299449551398 The effect size is small.\n"
     ]
    }
   ],
   "source": [
    "cohens_d = (sample_mean - mu) / sample_std\n",
    "\n",
    "interpretation = \"\"\n",
    "if abs(cohens_d) <= 0.3:\n",
    "    interpretation = \"The effect size is small.\"\n",
    "elif abs(cohens_d) <= 0.5:\n",
    "    interpretation = \"The effect size is medium.\"\n",
    "else:\n",
    "    interpretation = \"The effect size is large.\"\n",
    "print(\"Cohen's d:\", cohens_d, interpretation)"
   ]
  },
  {
   "cell_type": "markdown",
   "id": "f158dc66",
   "metadata": {},
   "source": [
    "\n",
    "Cela indique que l'âge moyen de la population du Titanic est relativement similaire à l'âge moyen de la population mondiale."
   ]
  },
  {
   "cell_type": "markdown",
   "id": "7ec7b55f",
   "metadata": {},
   "source": [
    "**Q2: La survie dépend-elle de la classe du passager?**"
   ]
  },
  {
   "cell_type": "markdown",
   "id": "9c9548e3",
   "metadata": {},
   "source": [
    "1. Les variables d'intérêts sont Pclass et Survived. \n",
    "    Pclass est une variable qualitative ordinale\n",
    "    Survived est une variable qualitative nominale"
   ]
  },
  {
   "cell_type": "markdown",
   "id": "c6fb14cc",
   "metadata": {},
   "source": [
    "2. Nous avons choisi de représenter ces variables avec un \"grouped bar chart\""
   ]
  },
  {
   "cell_type": "code",
   "execution_count": 32,
   "id": "855f2ca0",
   "metadata": {},
   "outputs": [
    {
     "data": {
      "image/png": "[encoded data removed]",
      "text/plain": [
       "<Figure size 800x600 with 1 Axes>"
      ]
     },
     "metadata": {},
     "output_type": "display_data"
    }
   ],
   "source": [
    "data_clean['SurvivalStatus'] = data_clean['Survived'].apply(lambda x: 'Survivant' if x == 1 else 'Décédé')\n",
    "\n",
    "plt.figure(figsize=(8,6))\n",
    "sns.countplot(data=data_clean, x='Pclass', hue='SurvivalStatus')\n",
    "plt.title('Survie des passagers par classe')\n",
    "plt.xlabel('Classe')\n",
    "plt.ylabel('Nombre de passagers')\n",
    "plt.show()"
   ]
  },
  {
   "cell_type": "markdown",
   "id": "d47d9713",
   "metadata": {},
   "source": [
    "3. Nous énnonçons les hypothèses suivantes :"
   ]
  },
  {
   "cell_type": "markdown",
   "id": "acc03f7b",
   "metadata": {},
   "source": [
    "$H_0$: La survie des passagers est **indépendent** de la classe. $H_1$: La survie n'est **pas indépendent** de la classe."
   ]
  },
  {
   "cell_type": "markdown",
   "id": "3d1677e9",
   "metadata": {},
   "source": [
    "4. Nous avons décidé d'utiliser un test Chi-Carré afin de tester l'indépendance de deux variables."
   ]
  },
  {
   "cell_type": "markdown",
   "id": "d1c5f255",
   "metadata": {},
   "source": [
    "5. Nous validons les assomptions suivantes :\n",
    "    Les échantillons sont aléatoires (comme exprimé plus haut)\n",
    "    Nous avons bien 5 valeurs par combinaisons de niveaux"
   ]
  },
  {
   "cell_type": "markdown",
   "id": "615b95c9",
   "metadata": {},
   "source": [
    "6. Nous calculons "
   ]
  },
  {
   "cell_type": "code",
   "execution_count": 13,
   "id": "fe5b6d81",
   "metadata": {},
   "outputs": [
    {
     "name": "stdout",
     "output_type": "stream",
     "text": [
      "Tableau de contingence :\n",
      " Pclass      1   2    3\n",
      "Survived              \n",
      "0          64  90  270\n",
      "1         120  83   85 \n",
      "\n",
      "Statistique Chi-square : 91.08074548791019\n",
      "\n",
      "Valeur p (pi) : 1.6675060315554636e-20\n",
      "\n",
      "Degrés de liberté : 2\n",
      "\n",
      "Fréquences attendues :\n",
      " [[109.57303371 103.02247191 211.40449438]\n",
      " [ 74.42696629  69.97752809 143.59550562]] \n",
      "\n",
      "Avec un alpha de 0.05, nous rejetons l'hypothèse nulle.\n",
      "Il y a des preuves statistiques suggérant une association entre la survie et la classe du billet.\n",
      "\n",
      "Coefficient de Phi : 0.35766240415815087\n",
      "Association moyenne.\n"
     ]
    }
   ],
   "source": [
    "import pandas as pd\n",
    "import numpy as np\n",
    "from scipy.stats import chi2_contingency\n",
    "\n",
    "tableau_contingence = pd.crosstab(data_clean['Survived'], data_clean['Pclass'])\n",
    "\n",
    "print(\"Tableau de contingence :\\n\", tableau_contingence, \"\\n\")\n",
    "\n",
    "chi2, p_value, dof, expected = chi2_contingency(tableau_contingence)\n",
    "\n",
    "print(f\"Statistique Chi-square : {chi2}\\n\")\n",
    "print(f\"Valeur p (pi) : {p_value}\\n\")\n",
    "print(f\"Degrés de liberté : {dof}\\n\")\n",
    "print(\"Fréquences attendues :\\n\", expected, \"\\n\")\n",
    "\n",
    "n = tableau_contingence.sum().sum()\n",
    "min_dim = min(tableau_contingence.shape)\n",
    "\n",
    "alpha = 0.05\n",
    "if p_value < alpha:\n",
    "    print(f\"Avec un alpha de {alpha}, nous rejetons l'hypothèse nulle.\")\n",
    "    print(\"Il y a des preuves statistiques suggérant une association entre la survie et la classe du billet.\\n\")\n",
    "else:\n",
    "    print(f\"Avec un alpha de {alpha}, nous ne rejetons pas l'hypothèse nulle.\")\n",
    "    print(\"Il n'y a pas de preuve statistique significative suggérant une association entre la survie et la classe du billet.\\n\")\n",
    "\n",
    "if min_dim == 2:\n",
    "    phi = np.sqrt(chi2 / n)\n",
    "    print(f\"Coefficient de Phi : {phi}\")\n",
    "    if phi < 0.1:\n",
    "        print(\"Association négligeable.\")\n",
    "    elif phi < 0.3:\n",
    "        print(\"Association faible.\")\n",
    "    elif phi < 0.5:\n",
    "        print(\"Association moyenne.\")\n",
    "    else:\n",
    "        print(\"Association forte.\")\n",
    "else:\n",
    "    V = np.sqrt((chi2/n) / (min_dim - 1))\n",
    "    print(f\"V de Cramer : {V}\")\n",
    "    if V < 0.1:\n",
    "        print(\"Association négligeable.\")\n",
    "    elif V < 0.3:\n",
    "        print(\"Association faible.\")\n",
    "    elif V < 0.5:\n",
    "        print(\"Association moyenne.\")\n",
    "    else:\n",
    "        print(\"Association forte.\")"
   ]
  },
  {
   "cell_type": "markdown",
   "id": "6dba1f3c",
   "metadata": {},
   "source": [
    "**Q3: Existe-t-il une différence d'âge entre les passagers qui ont survécu et les passagers décédés?**"
   ]
  },
  {
   "cell_type": "markdown",
   "id": "7ea3cac0",
   "metadata": {},
   "source": [
    "1. Les variables d'intérêts sont Age et Survived\n",
    "    Age est une variable quantitative continue\n",
    "    Survived est une variable qualitative nominale"
   ]
  },
  {
   "cell_type": "markdown",
   "id": "c405b9d2",
   "metadata": {},
   "source": [
    "2. Nous avons choisi de représenter ces variables avec un \"box plot\""
   ]
  },
  {
   "cell_type": "code",
   "execution_count": 14,
   "id": "d1ca01ee",
   "metadata": {},
   "outputs": [
    {
     "data": {
      "image/png": "[encoded data removed]",
      "text/plain": [
       "<Figure size 1000x600 with 1 Axes>"
      ]
     },
     "metadata": {},
     "output_type": "display_data"
    }
   ],
   "source": [
    "plt.figure(figsize=(10,6))\n",
    "sns.boxplot(x='Survived', y='Age', data=data_clean)\n",
    "plt.title('Boxplot of Ages based on Survival Status')\n",
    "plt.xlabel('Survived')\n",
    "plt.ylabel('Age')\n",
    "plt.xticks([0, 1], ['Did not survive', 'Survived'])\n",
    "plt.show()"
   ]
  },
  {
   "cell_type": "markdown",
   "id": "30f6ca16",
   "metadata": {},
   "source": [
    "3. Notre hypothèse nulle est que l'âge moyen des survivants et l'âge moyen des personnes décédées est égal. L'hypothèse alternative est que l'âge moyen des personnes décédés et survivantes diffère."
   ]
  },
  {
   "cell_type": "markdown",
   "id": "57738e67",
   "metadata": {},
   "source": [
    "\\begin{align*}\n",
    "H_0 : \\mu_0 &= \\mu_1 \\quad et \\quad H_1 : \\mu_0 \\neq \\mu_1\n",
    "\\end{align*}"
   ]
  },
  {
   "cell_type": "markdown",
   "id": "529f1ec6",
   "metadata": {},
   "source": [
    "4. Il s'agit d'une comparaison entre deux moyennes, nous avons donc utilisé un t-test à deux échantillons. "
   ]
  },
  {
   "cell_type": "markdown",
   "id": "b772d58f",
   "metadata": {},
   "source": [
    "Voici la formule pour calculer la statistique t pour 2 échantillon :\n",
    "$$ t = \\frac{(\\bar{X_1} - \\bar{X_2}) - (\\mu_1 - \\mu_2)}{\\sqrt{\\frac{s_{1}^2}{n_1} + \\frac{s_{2}^2}{n_2}}} $$\n",
    "et les *degrés de libertés* de la loi $t$ de Student sont le plus petit de $n_{1}-1$ et $n_{2}-1$ "
   ]
  },
  {
   "cell_type": "markdown",
   "id": "520978e9",
   "metadata": {},
   "source": [
    "5. Nous validons les assomptions :\n",
    "    Les échantillons sont aléatoires comme montré précédement (nous travaillons toujours sur le même)\n",
    "    Les échantillons sont indépendants (Pas de Schrödinger ici)\n",
    "    La taille des échantillons est supérieur à 30 "
   ]
  },
  {
   "cell_type": "code",
   "execution_count": 15,
   "id": "ab988a20",
   "metadata": {},
   "outputs": [
    {
     "name": "stdout",
     "output_type": "stream",
     "text": [
      "Nombre de survivants: 288\n",
      "Nombre de décédés: 424\n"
     ]
    }
   ],
   "source": [
    "survival_count = data_clean['Survived'].value_counts()\n",
    "num_survivant = survival_count[1]\n",
    "num_decede = survival_count[0]\n",
    "\n",
    "print(\"Nombre de survivants:\", num_survivant)\n",
    "print(\"Nombre de décédés:\", num_decede)"
   ]
  },
  {
   "cell_type": "markdown",
   "id": "e9dadc32",
   "metadata": {},
   "source": [
    "6. Nous calculons la statistique et la p-valeur"
   ]
  },
  {
   "cell_type": "code",
   "execution_count": 16,
   "id": "9306e036",
   "metadata": {},
   "outputs": [
    {
     "name": "stdout",
     "output_type": "stream",
     "text": [
      "t-stat: -2.2043427748445956, p-value: 0.027820316250851285, Cohen's d: -0.16755731389524692\n",
      "Nous rejetons l'hypothèse nulle. Il y a une différence significative dans l'âge entre les survivants et les non-survivants.\n"
     ]
    }
   ],
   "source": [
    "survivors = data_clean[data_clean[\"Survived\"] == 1]['Age']\n",
    "deceased = data_clean[data_clean[\"Survived\"] == 0]['Age']\n",
    "\n",
    "# Perform the t-test\n",
    "t_stat, p_value = stats.ttest_ind(survivors, deceased)\n",
    "\n",
    "# Calculate Cohen's d\n",
    "cohens_d = (np.mean(survivors) - np.mean(deceased)) / np.sqrt((np.std(survivors, ddof=1) ** 2 + np.std(deceased, ddof=1) ** 2) / 2)\n",
    "\n",
    "# Make the decision based on the p-value\n",
    "alpha = 0.05\n",
    "if p_value < alpha:\n",
    "    print(f\"t-stat: {t_stat}, p-value: {p_value}, Cohen's d: {cohens_d}\")\n",
    "    print(\"Nous rejetons l'hypothèse nulle. Il y a une différence significative dans l'âge entre les survivants et les non-survivants.\")\n",
    "else:\n",
    "    print(f\"t-stat: {t_stat}, p-value: {p_value}, Cohen's d: {cohens_d}\")\n",
    "    print(\"Nous ne rejetons pas l'hypothèse nulle. Il n'y a pas de différence significative dans l'âge entre les survivants et les non-survivants.\")"
   ]
  },
  {
   "cell_type": "markdown",
   "id": "7365cd42",
   "metadata": {},
   "source": [
    "8. Nous évaluons la taille de l'effet"
   ]
  },
  {
   "cell_type": "code",
   "execution_count": 17,
   "id": "3c3ad7c2",
   "metadata": {},
   "outputs": [
    {
     "name": "stdout",
     "output_type": "stream",
     "text": [
      "Cohen's d: -0.16755731389524692 The effect size is small.\n"
     ]
    }
   ],
   "source": [
    "interpretation = \"\"\n",
    "if abs(cohens_d) <= 0.3:\n",
    "    interpretation = \"The effect size is small.\"\n",
    "elif abs(cohens_d) <= 0.5:\n",
    "    interpretation = \"The effect size is medium.\"\n",
    "else:\n",
    "    interpretation = \"The effect size is large.\"\n",
    "print(\"Cohen's d:\", cohens_d, interpretation)"
   ]
  },
  {
   "cell_type": "markdown",
   "id": "5425c746",
   "metadata": {},
   "source": [
    "**Q4: Existe-t-il une relation entre l'âge des passagers et le prix des billets?**"
   ]
  },
  {
   "cell_type": "markdown",
   "id": "69c56b04",
   "metadata": {},
   "source": [
    "1. Les variables d'intérêt sont l'âge et le prix des billets, ce sont des variables quantitatives et continues."
   ]
  },
  {
   "cell_type": "markdown",
   "id": "357ebc94",
   "metadata": {},
   "source": [
    "2. Nous avons choisi de les représenter avec un scatter plot."
   ]
  },
  {
   "cell_type": "code",
   "execution_count": 18,
   "id": "2227575b",
   "metadata": {},
   "outputs": [
    {
     "data": {
      "image/png": "[encoded data removed]",
      "text/plain": [
       "<Figure size 1000x600 with 1 Axes>"
      ]
     },
     "metadata": {},
     "output_type": "display_data"
    }
   ],
   "source": [
    "plt.figure(figsize=(10,6))\n",
    "sns.regplot(x='Age', y='Fare', data=data_clean, scatter_kws={\"color\": \"blue\"}, line_kws={\"color\": \"red\"})\n",
    "plt.title('Relation entre l\\'âge et le prix du billet')\n",
    "plt.xlabel('Âge')\n",
    "plt.ylabel('Prix du billet')\n",
    "plt.show()"
   ]
  },
  {
   "cell_type": "markdown",
   "id": "97e82d45",
   "metadata": {},
   "source": [
    "3. Nos hypothèses sont les suivantes :"
   ]
  },
  {
   "cell_type": "markdown",
   "id": "19f724d2",
   "metadata": {},
   "source": [
    "$H_0$: Le prix des billet n'est **pas corrélé** à l'âge des passagers. $H_1$: Le prix est **corrélé** à l'âge des passagers."
   ]
  },
  {
   "cell_type": "markdown",
   "id": "3429b5ff",
   "metadata": {},
   "source": [
    "4. Nous allons utiliser un T-test de corrélation afin de déterminer le degré de corrélation entre nos deux variables\n",
    "5. Nous validons les assumptions suivantes :\n",
    "    Les données sont quantitatives et sont obtenues à partir d’un échantillon aléatoire.\n",
    "    Le scatter plot montre que les données sont approximativement liées linéairement.\n",
    "    Il y a une valeur abberante, elle ne devra pas être prise en compte lors du test.\n",
    "    Les variables doivent chacune suivre une loi normale."
   ]
  },
  {
   "cell_type": "code",
   "execution_count": 33,
   "id": "2088f7ae",
   "metadata": {},
   "outputs": [
    {
     "name": "stdout",
     "output_type": "stream",
     "text": [
      "Coefficient de corrélation : 0.18369527278264694\n",
      "Valeur p : 8.30405120340534e-07\n",
      "Nous rejetons l'hypothèse nulle. Cela indique qu'il y a une corrélation entre l'âge des passagers et le prix du billet.\n",
      "Intervalles de confiance pour le coefficient de corrélation : (28.55965910985283, 30.694340890147167)\n",
      "Coefficient de détermination (R-squared) : 0.03374395324269097\n",
      "La corrélation est positive, ce qui signifie que l'âge des passagers est généralement associé à un prix de billet plus élevé.\n",
      "La corrélation est faible.\n",
      "Taille de l'effet : 0.47384994358796134\n"
     ]
    }
   ],
   "source": [
    "from scipy.stats import pearsonr\n",
    "import statsmodels.api as sm\n",
    "\n",
    "# Supprimer les valeurs aberrantes\n",
    "data_filtered = data_clean[data_clean['Fare'] <= 400]\n",
    "\n",
    "age = data_filtered['Age']\n",
    "fare = data_filtered['Fare']\n",
    "\n",
    "correlation_coefficient, p_value = pearsonr(age, fare)\n",
    "\n",
    "print(f'Coefficient de corrélation : {correlation_coefficient}')\n",
    "print(f'Valeur p : {p_value}')\n",
    "\n",
    "alpha = 0.05\n",
    "if p_value <= alpha:\n",
    "    print('Nous rejetons l\\'hypothèse nulle. Cela indique qu\\'il y a une corrélation entre l\\'âge des passagers et le prix du billet.')\n",
    "else:\n",
    "    print('Nous ne rejetons pas l\\'hypothèse nulle. Cela indique qu\\'il n\\'y a pas de corrélation entre l\\'âge des passagers et le prix du billet.')\n",
    "\n",
    "def cohen_d(x,y):\n",
    "    nx = len(x)\n",
    "    ny = len(y)\n",
    "    dof = nx + ny - 2\n",
    "    return (np.mean(x) - np.mean(y)) / np.sqrt(((nx-1)*np.std(x, ddof=1) ** 2 + (ny-1)*np.std(y, ddof=1) ** 2) / dof)\n",
    "    \n",
    "r_intervalles_confiance = sm.stats.DescrStatsW(age).zconfint_mean()\n",
    "print(f'Intervalles de confiance pour le coefficient de corrélation : {r_intervalles_confiance}')\n",
    "\n",
    "model = sm.OLS(fare, sm.add_constant(age)).fit()\n",
    "r_squared = model.rsquared\n",
    "print(f'Coefficient de détermination (R-squared) : {r_squared}')\n",
    "\n",
    "if correlation_coefficient > 0:\n",
    "    print('La corrélation est positive, ce qui signifie que l\\'âge des passagers est généralement associé à un prix de billet plus élevé.')\n",
    "elif correlation_coefficient < 0:\n",
    "    print('La corrélation est négative, ce qui signifie que l\\'âge des passagers est généralement associé à un prix de billet plus bas.')\n",
    "else:\n",
    "    print('Il n\\'y a pas de corrélation linéaire claire entre l\\'âge des passagers et le prix du billet.')\n",
    "if abs(correlation_coefficient) < 0.1:\n",
    "    print('La corrélation est très faible.')\n",
    "    \n",
    "elif 0.1 <= abs(correlation_coefficient) < 0.3:\n",
    "    print('La corrélation est faible.')\n",
    "elif 0.3 <= abs(correlation_coefficient) < 0.5:\n",
    "    print('La corrélation est modérée.')\n",
    "else:\n",
    "    print('La corrélation est forte.')\n",
    "\n",
    "effect_size = cohen_d(age, fare)\n",
    "print(f'Taille de l\\'effet : {effect_size}')\n",
    "\n"
   ]
  },
  {
   "cell_type": "markdown",
   "id": "29f6871f",
   "metadata": {},
   "source": [
    "Pour chacune des questions 1 à 4 ci-dessus, argumenter de manière statistique en effectuant chacune des étapes suivantes:\n",
    "1. Identifier la ou les variables d'intérêt et spécifier le type.\n",
    "2. Réaliser une visualisation appropriée selon la ou les variables.\n",
    "3. Enoncer une hypothèse nulle et une hypothèse alternative considérant la ou les variables identifiées.\n",
    "4. Identifier le test statistique approprié selon les hypothèses énoncées.\n",
    "5. Vérifier la validation des assumptions selon le test identifié.\n",
    "6. Calculer la statistique ainsi que la p-valeur.\n",
    "7. Prendre une décision à partir de la p-valeur et d'un seuil alpha de 5%.\n",
    "8. Interpréter le résultat et évaluer la taille de l'effet."
   ]
  },
  {
   "cell_type": "markdown",
   "id": "493516ca",
   "metadata": {},
   "source": [
    "Quelques liens utiles pour la taille de l'effet:\n",
    "* [https://rpsychologist.com/cohend/](https://rpsychologist.com/cohend/)\n",
    "* [https://datatab.net/tutorial/effect-size-independent-t-test](https://datatab.net/tutorial/effect-size-independent-t-test)\n",
    "* [https://www.simplypsychology.org/effect-size.html](https://www.simplypsychology.org/effect-size.html)"
   ]
  },
  {
   "cell_type": "markdown",
   "id": "740c3ff2",
   "metadata": {},
   "source": [
    "## 3. Data mining (2 pts)"
   ]
  },
  {
   "cell_type": "code",
   "execution_count": 20,
   "id": "642faa1d",
   "metadata": {},
   "outputs": [
    {
     "name": "stdout",
     "output_type": "stream",
     "text": [
      "<class 'pandas.core.frame.DataFrame'>\n",
      "Index: 712 entries, 0 to 890\n",
      "Data columns (total 9 columns):\n",
      " #   Column          Non-Null Count  Dtype  \n",
      "---  ------          --------------  -----  \n",
      " 0   Survived        712 non-null    int64  \n",
      " 1   Pclass          712 non-null    int64  \n",
      " 2   Age             712 non-null    float64\n",
      " 3   Fare            712 non-null    float64\n",
      " 4   FamilySize      712 non-null    int64  \n",
      " 5   Sex_male        712 non-null    int64  \n",
      " 6   Embarked_Q      712 non-null    int64  \n",
      " 7   Embarked_S      712 non-null    int64  \n",
      " 8   SurvivalStatus  712 non-null    object \n",
      "dtypes: float64(2), int64(6), object(1)\n",
      "memory usage: 71.8+ KB\n"
     ]
    }
   ],
   "source": [
    "data_clean.info()"
   ]
  },
  {
   "cell_type": "markdown",
   "id": "6f89920e",
   "metadata": {},
   "source": [
    "**Q1: Effectuer une analyse statistique à l'aide de la régression logistique avec comme variable dépendente la variable `Survived`. Interpréter les coefficients et discuter de leur importance statistique en vous appuyant sur leur p-valeur.**"
   ]
  },
  {
   "cell_type": "code",
   "execution_count": 21,
   "id": "04143b3f",
   "metadata": {},
   "outputs": [
    {
     "name": "stdout",
     "output_type": "stream",
     "text": [
      "Optimization terminated successfully.\n",
      "         Current function value: 0.501181\n",
      "         Iterations 7\n",
      "                           Logit Regression Results                           \n",
      "==============================================================================\n",
      "Dep. Variable:               Survived   No. Observations:                  712\n",
      "Model:                          Logit   Df Residuals:                      705\n",
      "Method:                           MLE   Df Model:                            6\n",
      "Date:                Tue, 19 Mar 2024   Pseudo R-squ.:                  0.2573\n",
      "Time:                        08:02:45   Log-Likelihood:                -356.84\n",
      "converged:                       True   LL-Null:                       -480.45\n",
      "Covariance Type:            nonrobust   LLR p-value:                 1.609e-50\n",
      "==============================================================================\n",
      "                 coef    std err          z      P>|z|      [0.025      0.975]\n",
      "------------------------------------------------------------------------------\n",
      "Pclass        -0.0398      0.098     -0.406      0.685      -0.232       0.152\n",
      "Age           -0.0023      0.006     -0.386      0.699      -0.014       0.010\n",
      "Fare           0.0383      0.007      5.777      0.000       0.025       0.051\n",
      "FamilySize     0.0541      0.060      0.909      0.364      -0.063       0.171\n",
      "Sex_male      -2.1827      0.196    -11.139      0.000      -2.567      -1.799\n",
      "Embarked_Q    -0.2280      0.537     -0.425      0.671      -1.281       0.825\n",
      "Embarked_S     0.2633      0.249      1.058      0.290      -0.225       0.751\n",
      "==============================================================================\n"
     ]
    }
   ],
   "source": [
    "import statsmodels.api as sm\n",
    "\n",
    "y = data_clean['Survived']\n",
    "\n",
    "log_reg = sm.Logit(y, data_clean.drop(['Survived', 'SurvivalStatus'], axis=1)).fit()\n",
    "\n",
    "print(log_reg.summary())"
   ]
  },
  {
   "cell_type": "markdown",
   "id": "0d66b468",
   "metadata": {},
   "source": [
    "**Q2: Effecter une analyse statistique à l'aide d'un arbre de classification avec comme variable dépendente la variable `Survived` et une profondeur maximale de 4. Visualiser l'arbre et expliquer quelques décisions.**"
   ]
  },
  {
   "cell_type": "code",
   "execution_count": 40,
   "id": "71613eec",
   "metadata": {},
   "outputs": [
    {
     "ename": "InvalidParameterError",
     "evalue": "The 'feature_names' parameter of plot_tree must be an instance of 'list' or None. Got Index(['Pclass', 'Age', 'Fare', 'FamilySize', 'Sex_male', 'Embarked_Q',\n       'Embarked_S'],\n      dtype='object') instead.",
     "output_type": "error",
     "traceback": [
      "\u001b[0;31m---------------------------------------------------------------------------\u001b[0m",
      "\u001b[0;31mInvalidParameterError\u001b[0m                     Traceback (most recent call last)",
      "Cell \u001b[0;32mIn[40], line 15\u001b[0m\n\u001b[1;32m     13\u001b[0m \u001b[38;5;66;03m# Visualize the decision tree\u001b[39;00m\n\u001b[1;32m     14\u001b[0m plt\u001b[38;5;241m.\u001b[39mfigure(figsize\u001b[38;5;241m=\u001b[39m(\u001b[38;5;241m24\u001b[39m,\u001b[38;5;241m12\u001b[39m))\n\u001b[0;32m---> 15\u001b[0m plot_tree(clf,\n\u001b[1;32m     16\u001b[0m           feature_names \u001b[38;5;241m=\u001b[39m X\u001b[38;5;241m.\u001b[39mcolumns,\n\u001b[1;32m     17\u001b[0m           class_names\u001b[38;5;241m=\u001b[39m[\u001b[38;5;124m'\u001b[39m\u001b[38;5;124mDécédé\u001b[39m\u001b[38;5;124m'\u001b[39m,\u001b[38;5;124m'\u001b[39m\u001b[38;5;124mSurvivant\u001b[39m\u001b[38;5;124m'\u001b[39m],\n\u001b[1;32m     18\u001b[0m           filled \u001b[38;5;241m=\u001b[39m \u001b[38;5;28;01mTrue\u001b[39;00m,\n\u001b[1;32m     19\u001b[0m           rounded \u001b[38;5;241m=\u001b[39m \u001b[38;5;28;01mTrue\u001b[39;00m)\n\u001b[1;32m     20\u001b[0m plt\u001b[38;5;241m.\u001b[39mshow()\n",
      "File \u001b[0;32m~/anaconda3/lib/python3.11/site-packages/sklearn/utils/_param_validation.py:201\u001b[0m, in \u001b[0;36mvalidate_params.<locals>.decorator.<locals>.wrapper\u001b[0;34m(*args, **kwargs)\u001b[0m\n\u001b[1;32m    198\u001b[0m to_ignore \u001b[38;5;241m+\u001b[39m\u001b[38;5;241m=\u001b[39m [\u001b[38;5;124m\"\u001b[39m\u001b[38;5;124mself\u001b[39m\u001b[38;5;124m\"\u001b[39m, \u001b[38;5;124m\"\u001b[39m\u001b[38;5;124mcls\u001b[39m\u001b[38;5;124m\"\u001b[39m]\n\u001b[1;32m    199\u001b[0m params \u001b[38;5;241m=\u001b[39m {k: v \u001b[38;5;28;01mfor\u001b[39;00m k, v \u001b[38;5;129;01min\u001b[39;00m params\u001b[38;5;241m.\u001b[39marguments\u001b[38;5;241m.\u001b[39mitems() \u001b[38;5;28;01mif\u001b[39;00m k \u001b[38;5;129;01mnot\u001b[39;00m \u001b[38;5;129;01min\u001b[39;00m to_ignore}\n\u001b[0;32m--> 201\u001b[0m validate_parameter_constraints(\n\u001b[1;32m    202\u001b[0m     parameter_constraints, params, caller_name\u001b[38;5;241m=\u001b[39mfunc\u001b[38;5;241m.\u001b[39m\u001b[38;5;18m__qualname__\u001b[39m\n\u001b[1;32m    203\u001b[0m )\n\u001b[1;32m    205\u001b[0m \u001b[38;5;28;01mtry\u001b[39;00m:\n\u001b[1;32m    206\u001b[0m     \u001b[38;5;28;01mwith\u001b[39;00m config_context(\n\u001b[1;32m    207\u001b[0m         skip_parameter_validation\u001b[38;5;241m=\u001b[39m(\n\u001b[1;32m    208\u001b[0m             prefer_skip_nested_validation \u001b[38;5;129;01mor\u001b[39;00m global_skip_validation\n\u001b[1;32m    209\u001b[0m         )\n\u001b[1;32m    210\u001b[0m     ):\n",
      "File \u001b[0;32m~/anaconda3/lib/python3.11/site-packages/sklearn/utils/_param_validation.py:95\u001b[0m, in \u001b[0;36mvalidate_parameter_constraints\u001b[0;34m(parameter_constraints, params, caller_name)\u001b[0m\n\u001b[1;32m     89\u001b[0m \u001b[38;5;28;01melse\u001b[39;00m:\n\u001b[1;32m     90\u001b[0m     constraints_str \u001b[38;5;241m=\u001b[39m (\n\u001b[1;32m     91\u001b[0m         \u001b[38;5;124mf\u001b[39m\u001b[38;5;124m\"\u001b[39m\u001b[38;5;132;01m{\u001b[39;00m\u001b[38;5;124m'\u001b[39m\u001b[38;5;124m, \u001b[39m\u001b[38;5;124m'\u001b[39m\u001b[38;5;241m.\u001b[39mjoin([\u001b[38;5;28mstr\u001b[39m(c)\u001b[38;5;250m \u001b[39m\u001b[38;5;28;01mfor\u001b[39;00m\u001b[38;5;250m \u001b[39mc\u001b[38;5;250m \u001b[39m\u001b[38;5;129;01min\u001b[39;00m\u001b[38;5;250m \u001b[39mconstraints[:\u001b[38;5;241m-\u001b[39m\u001b[38;5;241m1\u001b[39m]])\u001b[38;5;132;01m}\u001b[39;00m\u001b[38;5;124m or\u001b[39m\u001b[38;5;124m\"\u001b[39m\n\u001b[1;32m     92\u001b[0m         \u001b[38;5;124mf\u001b[39m\u001b[38;5;124m\"\u001b[39m\u001b[38;5;124m \u001b[39m\u001b[38;5;132;01m{\u001b[39;00mconstraints[\u001b[38;5;241m-\u001b[39m\u001b[38;5;241m1\u001b[39m]\u001b[38;5;132;01m}\u001b[39;00m\u001b[38;5;124m\"\u001b[39m\n\u001b[1;32m     93\u001b[0m     )\n\u001b[0;32m---> 95\u001b[0m \u001b[38;5;28;01mraise\u001b[39;00m InvalidParameterError(\n\u001b[1;32m     96\u001b[0m     \u001b[38;5;124mf\u001b[39m\u001b[38;5;124m\"\u001b[39m\u001b[38;5;124mThe \u001b[39m\u001b[38;5;132;01m{\u001b[39;00mparam_name\u001b[38;5;132;01m!r}\u001b[39;00m\u001b[38;5;124m parameter of \u001b[39m\u001b[38;5;132;01m{\u001b[39;00mcaller_name\u001b[38;5;132;01m}\u001b[39;00m\u001b[38;5;124m must be\u001b[39m\u001b[38;5;124m\"\u001b[39m\n\u001b[1;32m     97\u001b[0m     \u001b[38;5;124mf\u001b[39m\u001b[38;5;124m\"\u001b[39m\u001b[38;5;124m \u001b[39m\u001b[38;5;132;01m{\u001b[39;00mconstraints_str\u001b[38;5;132;01m}\u001b[39;00m\u001b[38;5;124m. Got \u001b[39m\u001b[38;5;132;01m{\u001b[39;00mparam_val\u001b[38;5;132;01m!r}\u001b[39;00m\u001b[38;5;124m instead.\u001b[39m\u001b[38;5;124m\"\u001b[39m\n\u001b[1;32m     98\u001b[0m )\n",
      "\u001b[0;31mInvalidParameterError\u001b[0m: The 'feature_names' parameter of plot_tree must be an instance of 'list' or None. Got Index(['Pclass', 'Age', 'Fare', 'FamilySize', 'Sex_male', 'Embarked_Q',\n       'Embarked_S'],\n      dtype='object') instead."
     ]
    },
    {
     "data": {
      "text/plain": [
       "<Figure size 2400x1200 with 0 Axes>"
      ]
     },
     "metadata": {},
     "output_type": "display_data"
    }
   ],
   "source": [
    "from sklearn.tree import DecisionTreeClassifier, plot_tree\n",
    " \n",
    "# Prepare the features and the target\n",
    "X = data_clean.drop(columns=['Survived', 'SurvivalStatus'])\n",
    "y = data_clean['Survived']\n",
    " \n",
    "# Initialize the decision tree classifier and set the max depth to 4\n",
    "clf = DecisionTreeClassifier(max_depth=4)\n",
    " \n",
    "# Fit the model\n",
    "clf.fit(X, y)\n",
    " \n",
    "# Visualize the decision tree\n",
    "plt.figure(figsize=(24,12))\n",
    "plot_tree(clf,\n",
    "          feature_names = X.columns,\n",
    "          class_names=['Décédé','Survivant'],\n",
    "          filled = True,\n",
    "          rounded = True)\n",
    "plt.show()\n",
    " "
   ]
  },
  {
   "cell_type": "markdown",
   "id": "42c0a724",
   "metadata": {},
   "source": [
    "**Conclusion: Interpréter les résultats des deux analyses statistiques et résumer les points importants de votre étude.**"
   ]
  }
 ],
 "metadata": {
  "kernelspec": {
   "display_name": "Python 3 (ipykernel)",
   "language": "python",
   "name": "python3"
  },
  "language_info": {
   "codemirror_mode": {
    "name": "ipython",
    "version": 3
   },
   "file_extension": ".py",
   "mimetype": "text/x-python",
   "name": "python",
   "nbconvert_exporter": "python",
   "pygments_lexer": "ipython3",
   "version": "3.11.5"
  }
 },
 "nbformat": 4,
 "nbformat_minor": 5
}
