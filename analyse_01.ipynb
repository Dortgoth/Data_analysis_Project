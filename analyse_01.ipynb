{
 "cells": [
  {
   "cell_type": "markdown",
   "id": "94666300",
   "metadata": {},
   "source": [
    "# Objectifs"
   ]
  },
  {
   "cell_type": "markdown",
   "id": "4d7bf316",
   "metadata": {},
   "source": [
    "Les objectifs de la leçon sont les suivants:\n",
    "* Connaître les différents types de variables\n",
    "* Utiliser des fonctions de base en Python\n",
    "* Etre capable de faire des visualisations de base en Python"
   ]
  },
  {
   "cell_type": "markdown",
   "id": "c1d1afb6",
   "metadata": {},
   "source": [
    "# Importer les librairies"
   ]
  },
  {
   "cell_type": "code",
   "execution_count": 1,
   "id": "edc9dac8",
   "metadata": {
    "ExecuteTime": {
     "end_time": "2024-02-20T09:15:37.348722484Z",
     "start_time": "2024-02-20T09:15:37.203786018Z"
    }
   },
   "outputs": [],
   "source": [
    "import pandas as pd \n",
    "import os\n",
    "\n",
    "# Visualisation\n",
    "import seaborn as sns\n",
    "import matplotlib.pyplot as plt"
   ]
  },
  {
   "cell_type": "markdown",
   "id": "e059d9a7",
   "metadata": {},
   "source": [
    "# Loader les données"
   ]
  },
  {
   "cell_type": "code",
   "execution_count": 4,
   "id": "124a1ef1",
   "metadata": {
    "ExecuteTime": {
     "end_time": "2024-02-20T09:20:48.376572916Z",
     "start_time": "2024-02-20T09:20:47.732923301Z"
    }
   },
   "outputs": [
    {
     "data": {
      "text/plain": "     PassengerId  Survived  Pclass  \\\n0              1         0       3   \n1              2         1       1   \n2              3         1       3   \n3              4         1       1   \n4              5         0       3   \n..           ...       ...     ...   \n886          887         0       2   \n887          888         1       1   \n888          889         0       3   \n889          890         1       1   \n890          891         0       3   \n\n                                                  Name     Sex   Age  SibSp  \\\n0                              Braund, Mr. Owen Harris    male  22.0      1   \n1    Cumings, Mrs. John Bradley (Florence Briggs Th...  female  38.0      1   \n2                               Heikkinen, Miss. Laina  female  26.0      0   \n3         Futrelle, Mrs. Jacques Heath (Lily May Peel)  female  35.0      1   \n4                             Allen, Mr. William Henry    male  35.0      0   \n..                                                 ...     ...   ...    ...   \n886                              Montvila, Rev. Juozas    male  27.0      0   \n887                       Graham, Miss. Margaret Edith  female  19.0      0   \n888           Johnston, Miss. Catherine Helen \"Carrie\"  female   NaN      1   \n889                              Behr, Mr. Karl Howell    male  26.0      0   \n890                                Dooley, Mr. Patrick    male  32.0      0   \n\n     Parch            Ticket     Fare Cabin Embarked  \n0        0         A/5 21171   7.2500   NaN        S  \n1        0          PC 17599  71.2833   C85        C  \n2        0  STON/O2. 3101282   7.9250   NaN        S  \n3        0            113803  53.1000  C123        S  \n4        0            373450   8.0500   NaN        S  \n..     ...               ...      ...   ...      ...  \n886      0            211536  13.0000   NaN        S  \n887      0            112053  30.0000   B42        S  \n888      2        W./C. 6607  23.4500   NaN        S  \n889      0            111369  30.0000  C148        C  \n890      0            370376   7.7500   NaN        Q  \n\n[891 rows x 12 columns]",
      "text/html": "<div>\n<style scoped>\n    .dataframe tbody tr th:only-of-type {\n        vertical-align: middle;\n    }\n\n    .dataframe tbody tr th {\n        vertical-align: top;\n    }\n\n    .dataframe thead th {\n        text-align: right;\n    }\n</style>\n<table border=\"1\" class=\"dataframe\">\n  <thead>\n    <tr style=\"text-align: right;\">\n      <th></th>\n      <th>PassengerId</th>\n      <th>Survived</th>\n      <th>Pclass</th>\n      <th>Name</th>\n      <th>Sex</th>\n      <th>Age</th>\n      <th>SibSp</th>\n      <th>Parch</th>\n      <th>Ticket</th>\n      <th>Fare</th>\n      <th>Cabin</th>\n      <th>Embarked</th>\n    </tr>\n  </thead>\n  <tbody>\n    <tr>\n      <th>0</th>\n      <td>1</td>\n      <td>0</td>\n      <td>3</td>\n      <td>Braund, Mr. Owen Harris</td>\n      <td>male</td>\n      <td>22.0</td>\n      <td>1</td>\n      <td>0</td>\n      <td>A/5 21171</td>\n      <td>7.2500</td>\n      <td>NaN</td>\n      <td>S</td>\n    </tr>\n    <tr>\n      <th>1</th>\n      <td>2</td>\n      <td>1</td>\n      <td>1</td>\n      <td>Cumings, Mrs. John Bradley (Florence Briggs Th...</td>\n      <td>female</td>\n      <td>38.0</td>\n      <td>1</td>\n      <td>0</td>\n      <td>PC 17599</td>\n      <td>71.2833</td>\n      <td>C85</td>\n      <td>C</td>\n    </tr>\n    <tr>\n      <th>2</th>\n      <td>3</td>\n      <td>1</td>\n      <td>3</td>\n      <td>Heikkinen, Miss. Laina</td>\n      <td>female</td>\n      <td>26.0</td>\n      <td>0</td>\n      <td>0</td>\n      <td>STON/O2. 3101282</td>\n      <td>7.9250</td>\n      <td>NaN</td>\n      <td>S</td>\n    </tr>\n    <tr>\n      <th>3</th>\n      <td>4</td>\n      <td>1</td>\n      <td>1</td>\n      <td>Futrelle, Mrs. Jacques Heath (Lily May Peel)</td>\n      <td>female</td>\n      <td>35.0</td>\n      <td>1</td>\n      <td>0</td>\n      <td>113803</td>\n      <td>53.1000</td>\n      <td>C123</td>\n      <td>S</td>\n    </tr>\n    <tr>\n      <th>4</th>\n      <td>5</td>\n      <td>0</td>\n      <td>3</td>\n      <td>Allen, Mr. William Henry</td>\n      <td>male</td>\n      <td>35.0</td>\n      <td>0</td>\n      <td>0</td>\n      <td>373450</td>\n      <td>8.0500</td>\n      <td>NaN</td>\n      <td>S</td>\n    </tr>\n    <tr>\n      <th>...</th>\n      <td>...</td>\n      <td>...</td>\n      <td>...</td>\n      <td>...</td>\n      <td>...</td>\n      <td>...</td>\n      <td>...</td>\n      <td>...</td>\n      <td>...</td>\n      <td>...</td>\n      <td>...</td>\n      <td>...</td>\n    </tr>\n    <tr>\n      <th>886</th>\n      <td>887</td>\n      <td>0</td>\n      <td>2</td>\n      <td>Montvila, Rev. Juozas</td>\n      <td>male</td>\n      <td>27.0</td>\n      <td>0</td>\n      <td>0</td>\n      <td>211536</td>\n      <td>13.0000</td>\n      <td>NaN</td>\n      <td>S</td>\n    </tr>\n    <tr>\n      <th>887</th>\n      <td>888</td>\n      <td>1</td>\n      <td>1</td>\n      <td>Graham, Miss. Margaret Edith</td>\n      <td>female</td>\n      <td>19.0</td>\n      <td>0</td>\n      <td>0</td>\n      <td>112053</td>\n      <td>30.0000</td>\n      <td>B42</td>\n      <td>S</td>\n    </tr>\n    <tr>\n      <th>888</th>\n      <td>889</td>\n      <td>0</td>\n      <td>3</td>\n      <td>Johnston, Miss. Catherine Helen \"Carrie\"</td>\n      <td>female</td>\n      <td>NaN</td>\n      <td>1</td>\n      <td>2</td>\n      <td>W./C. 6607</td>\n      <td>23.4500</td>\n      <td>NaN</td>\n      <td>S</td>\n    </tr>\n    <tr>\n      <th>889</th>\n      <td>890</td>\n      <td>1</td>\n      <td>1</td>\n      <td>Behr, Mr. Karl Howell</td>\n      <td>male</td>\n      <td>26.0</td>\n      <td>0</td>\n      <td>0</td>\n      <td>111369</td>\n      <td>30.0000</td>\n      <td>C148</td>\n      <td>C</td>\n    </tr>\n    <tr>\n      <th>890</th>\n      <td>891</td>\n      <td>0</td>\n      <td>3</td>\n      <td>Dooley, Mr. Patrick</td>\n      <td>male</td>\n      <td>32.0</td>\n      <td>0</td>\n      <td>0</td>\n      <td>370376</td>\n      <td>7.7500</td>\n      <td>NaN</td>\n      <td>Q</td>\n    </tr>\n  </tbody>\n</table>\n<p>891 rows × 12 columns</p>\n</div>"
     },
     "execution_count": 4,
     "metadata": {},
     "output_type": "execute_result"
    }
   ],
   "source": [
    "# Loader les data\n",
    "filepath = os.getcwd() + \"/Data/titanic.csv\"\n",
    "data = pd.read_csv(\n",
    "    filepath,\n",
    "    delimiter=\",\"\n",
    ")\n",
    "data"
   ]
  },
  {
   "cell_type": "code",
   "execution_count": null,
   "id": "c34c4c98",
   "metadata": {},
   "outputs": [],
   "source": [
    "# Supprimer les colonnes dont nous n'avons pas besoin\n",
    "data.drop(columns=[\"PassengerId\", \"Name\", \"Ticket\", \"Cabin\"], inplace=True)\n",
    "\n",
    "data"
   ]
  },
  {
   "cell_type": "markdown",
   "id": "09c9436b",
   "metadata": {},
   "source": [
    "## Comprendre la \"big picture\""
   ]
  },
  {
   "cell_type": "markdown",
   "id": "8f10d151",
   "metadata": {},
   "source": [
    "Les jeu de données contient une ligne par passager du Titanic et 8 colonnes:\n",
    "* Survived: Si le passager a survécu au naufrage.\n",
    "* Pclass: La classe du ticket du passager (1=1st, 2=2nd, 3=3rd).\n",
    "* Sex: Le genre du passager.\n",
    "* Age: L'âge du passager.\n",
    "* SibSp: Le nombre de frères et soeurs/mari/femme du passager à bord .\n",
    "* Parch: Le nombre de parents/enfants du passager à bord.\n",
    "* Fare: Le prix du billet du passager.\n",
    "* Embarked: Le port d'embarcation du passager (S=Southampton, C=Cherbourg, Q=Queenstown).\n",
    "\n",
    "Les **variables qualitatives nominales** sont Survived, Sex et Embarked. Pclass est l'unique **variable qualitative ordinale**. Les **variables quantitatives** sont Age et Fare."
   ]
  },
  {
   "cell_type": "markdown",
   "id": "f4164004",
   "metadata": {},
   "source": [
    "# Analyse exploratoire des données"
   ]
  },
  {
   "cell_type": "markdown",
   "id": "04631d35",
   "metadata": {},
   "source": [
    "## Quelques fonctions utiles pour débuter"
   ]
  },
  {
   "cell_type": "markdown",
   "id": "0ac196f1",
   "metadata": {},
   "source": [
    "Deux des fonctions les plus utilisées sont [`head()`](https://pandas.pydata.org/docs/reference/api/pandas.DataFrame.head.html) and [`tail()`](https://pandas.pydata.org/docs/reference/api/pandas.DataFrame.tail.html). Celles-ci permettent de voir un certain nombre de lignes (par défaut 5 lignes) au début ou à la fin des données. Elles sont très utiles pour voir rapidement une partie des données."
   ]
  },
  {
   "cell_type": "code",
   "execution_count": 1,
   "id": "b87a76d9",
   "metadata": {},
   "outputs": [
    {
     "ename": "NameError",
     "evalue": "name 'data' is not defined",
     "output_type": "error",
     "traceback": [
      "\u001B[0;31m---------------------------------------------------------------------------\u001B[0m",
      "\u001B[0;31mNameError\u001B[0m                                 Traceback (most recent call last)",
      "Cell \u001B[0;32mIn[1], line 2\u001B[0m\n\u001B[1;32m      1\u001B[0m \u001B[38;5;66;03m# Voir les 5 premières lignes\u001B[39;00m\n\u001B[0;32m----> 2\u001B[0m \u001B[43mdata\u001B[49m\u001B[38;5;241m.\u001B[39mhead()\n",
      "\u001B[0;31mNameError\u001B[0m: name 'data' is not defined"
     ]
    }
   ],
   "source": [
    "# Voir les 5 premières lignes\n",
    "data.head()"
   ]
  },
  {
   "cell_type": "code",
   "execution_count": null,
   "id": "2a1b4394",
   "metadata": {},
   "outputs": [],
   "source": [
    "# Voir les 5 dernières lignes\n",
    "data.tail()"
   ]
  },
  {
   "cell_type": "markdown",
   "id": "fe67bc2a",
   "metadata": {},
   "source": [
    "[`shape`](https://pandas.pydata.org/docs/reference/api/pandas.DataFrame.shape.html) est une autre fonction utile qui retourne une paire de nombres qui représentent la dimension des data. Elle est utile pour connaître le nombre de lignes et le nombre de colonnes."
   ]
  },
  {
   "cell_type": "code",
   "execution_count": null,
   "id": "f9ee95c8",
   "metadata": {},
   "outputs": [],
   "source": [
    "# Combien de lignes? Combien de colonnes?\n",
    "data.shape"
   ]
  },
  {
   "cell_type": "markdown",
   "id": "f204bbec",
   "metadata": {},
   "source": [
    "[`info()`](https://pandas.pydata.org/docs/reference/api/pandas.DataFrame.info.html) donne un petit résumé sur les data, comme le type des variables et le nombre de valeurs non null par colonne par exemple."
   ]
  },
  {
   "cell_type": "code",
   "execution_count": null,
   "id": "f91bdb11",
   "metadata": {},
   "outputs": [],
   "source": [
    "# Combien de valeurs null par colonne?\n",
    "data.info()"
   ]
  },
  {
   "cell_type": "code",
   "execution_count": null,
   "id": "44b67f5a",
   "metadata": {},
   "outputs": [],
   "source": [
    "# Supprimer les lignes contenant des valeurs null\n",
    "data = data.dropna(axis=0) # on supprime les lignes (axe 0) et pas les colonnes \n",
    "\n",
    "data"
   ]
  },
  {
   "cell_type": "markdown",
   "id": "1f5c0b2d",
   "metadata": {},
   "source": [
    "## Analyse univariée"
   ]
  },
  {
   "cell_type": "markdown",
   "id": "316fcaaa",
   "metadata": {},
   "source": [
    "### Variables qualitatives"
   ]
  },
  {
   "cell_type": "markdown",
   "id": "7d1491f1",
   "metadata": {},
   "source": [
    "#### Comptes et pourcentages"
   ]
  },
  {
   "cell_type": "markdown",
   "id": "cc109208",
   "metadata": {},
   "source": [
    "La function [`value_counts()`](https://pandas.pydata.org/docs/reference/api/pandas.Series.value_counts.html) compte le nombre d'occurences de chaque élément unique de la variable, et est l'une des fonctions les plus importantes pour comprendre les variables qualitatives."
   ]
  },
  {
   "cell_type": "code",
   "execution_count": null,
   "id": "4df4b522",
   "metadata": {},
   "outputs": [],
   "source": [
    "# Combien de passagers ont survécu au naufrage?\n",
    "data[\"Survived\"].value_counts()"
   ]
  },
  {
   "cell_type": "markdown",
   "id": "e3c85d17",
   "metadata": {},
   "source": [
    "Il est également possible de retourner le pourcentage de chaque élément unique de la variable, en passant l'argument `normalize=True` à cette même fonction."
   ]
  },
  {
   "cell_type": "code",
   "execution_count": null,
   "id": "2a82e20b",
   "metadata": {},
   "outputs": [],
   "source": [
    "# Quel pourcentage des passagers a survécu?\n",
    "data[\"Survived\"].value_counts(normalize=True)"
   ]
  },
  {
   "cell_type": "markdown",
   "id": "98983af3",
   "metadata": {},
   "source": [
    "#### Visualisations"
   ]
  },
  {
   "cell_type": "markdown",
   "id": "3c2a3c9e",
   "metadata": {},
   "source": [
    "Les deux visualisations les plus courantes pour visualiser une variable qualitative sont le **count plot** et la **pie chart**. Les fonctions [`sns.countplot()`](https://seaborn.pydata.org/generated/seaborn.countplot.html) et [`matplotlib.pyplot.pie()`](https://matplotlib.org/stable/api/_as_gen/matplotlib.pyplot.pie.html) sont utilisées respectivement. On utilise matplotlib pour la pie chart car aucune fonction n'existe pour ce genre de visualisation avec seaborn."
   ]
  },
  {
   "cell_type": "code",
   "execution_count": null,
   "id": "e88232ad",
   "metadata": {},
   "outputs": [],
   "source": [
    "# Bar chart pour visualiser les genres des passagers\n",
    "sns.countplot(\n",
    "    data=data,# `data` est le nom de notre variable contenant les data\n",
    "    x=\"Sex\" # la colonne dans `data` qui nous intéresse\n",
    ")\n",
    "plt.title(\"Count plot for Sex\") # on ajoute un titre\n",
    "plt.show()"
   ]
  },
  {
   "cell_type": "code",
   "execution_count": null,
   "id": "57022ded",
   "metadata": {},
   "outputs": [],
   "source": [
    "# Pie chart pour visualiser les ports d'embarcation des passagers\n",
    "plt.pie(\n",
    "    data[\"Embarked\"].value_counts().values, # les values sont le nombre d'occurences des éléments uniques\n",
    "    labels=data[\"Embarked\"].value_counts().keys(), # les keys sont les éléments uniques\n",
    "    autopct=\"%.0f%%\" # ajouter les pourcentages comme labels\n",
    ")\n",
    "plt.title(\"Pie chart for Embarked\")\n",
    "plt.show()"
   ]
  },
  {
   "cell_type": "markdown",
   "id": "c9ddf4bc",
   "metadata": {},
   "source": [
    "### Variables quantitatives"
   ]
  },
  {
   "cell_type": "markdown",
   "id": "f004116e",
   "metadata": {},
   "source": [
    "#### Moyenne, médiane, mode et écart-type"
   ]
  },
  {
   "cell_type": "markdown",
   "id": "a7ddeac6",
   "metadata": {},
   "source": [
    "La moyenne, la médiane et le mode sont les trois mesures de tendance centrales les plus connues et permettent de résumer un ensemble de données avec une seule valeur **pour les variables quantitatives**. Celles-ci peuvent facilement être calculer à l'aide des fonctions [`mean()`](https://pandas.pydata.org/docs/reference/api/pandas.Series.mean.html), [`median()`](https://pandas.pydata.org/docs/reference/api/pandas.Series.median.html) et [`mode()`](https://pandas.pydata.org/docs/reference/api/pandas.Series.mode.html).\n",
    "L'écart-type est également une mesure fréquemment utilisée comme mesure de dispersion. En général, on le préfère à la variance car celui-ci est sur la même unité de mesure que les données. La fonction [`std()`](https://pandas.pydata.org/docs/reference/api/pandas.Series.std.html) permet de calculer l'écart-type."
   ]
  },
  {
   "cell_type": "code",
   "execution_count": null,
   "id": "392718e3",
   "metadata": {},
   "outputs": [],
   "source": [
    "# Quel est le prix moyen des tickets?\n",
    "data[\"Fare\"].mean()"
   ]
  },
  {
   "cell_type": "code",
   "execution_count": null,
   "id": "0c06cbae",
   "metadata": {},
   "outputs": [],
   "source": [
    "# Quel est le nombre médian du nombre frères et soeurs/mari et femme parmi passagers?\n",
    "data[\"SibSp\"].median()"
   ]
  },
  {
   "cell_type": "code",
   "execution_count": null,
   "id": "adc388b1",
   "metadata": {},
   "outputs": [],
   "source": [
    "# De quel port d'embarcation viennent le plus de passagers?\n",
    "data[\"Embarked\"].mode()"
   ]
  },
  {
   "cell_type": "code",
   "execution_count": null,
   "id": "ba27b8d8",
   "metadata": {},
   "outputs": [],
   "source": [
    "# Quel est l'écart type de l'âge des passagers?\n",
    "data[\"Age\"].std()"
   ]
  },
  {
   "cell_type": "markdown",
   "id": "b5577a72",
   "metadata": {},
   "source": [
    "#### Visualisations"
   ]
  },
  {
   "cell_type": "markdown",
   "id": "72f80561",
   "metadata": {},
   "source": [
    "La visualisation la plus courante pour visualiser une variable quantitative est l'**histogram**. La fonction [`sns.displot()`](https://seaborn.pydata.org/generated/seaborn.displot.html) permet ceci."
   ]
  },
  {
   "cell_type": "code",
   "execution_count": null,
   "id": "f53c92c7",
   "metadata": {},
   "outputs": [],
   "source": [
    "# Histogram de l'âge des passagers\n",
    "sns.displot(\n",
    "    data=data, # notre dataframe\n",
    "    x=\"Age\", # notre colonne\n",
    "    kde=True # ajouter une courbe d'estimation\n",
    ")\n",
    "plt.title(\"Distribution of Age\")\n",
    "plt.show()"
   ]
  },
  {
   "cell_type": "markdown",
   "id": "b150bd8f",
   "metadata": {},
   "source": [
    "Une autre manière de visualiser la distribution d'une variable quantitative est d'utiliser un **box plot**. Il est possible d'utiliser [`sns.boxplot`](https://seaborn.pydata.org/generated/seaborn.boxplot.html)."
   ]
  },
  {
   "cell_type": "code",
   "execution_count": null,
   "id": "97b7022d",
   "metadata": {},
   "outputs": [],
   "source": [
    "# Boxplot de l'âge des passagers\n",
    "sns.boxplot(\n",
    "    data=data, # notre dataframe\n",
    "    x=\"Age\"\n",
    ")\n",
    "plt.title(\"Distribution of Age\")\n",
    "plt.show()"
   ]
  },
  {
   "cell_type": "markdown",
   "id": "b3f7bbd8",
   "metadata": {},
   "source": [
    "Seaborn considère comme valeurs minimum Q1-1.5xIQR et comme valeur maximum Q3+1.5xIQR. Toute valeur en dehors de ces bornes est considérée comme une valeur aberrante, et est représentée par un losange noir. Par exemple, la valeur maximum de l'âge considérée par seaborn est 65 pour les survivants, alors que la valeur maximum est en fait 80. Les âges supérieurs à 65 sont donc considérés comme des valeurs aberrantes."
   ]
  },
  {
   "cell_type": "markdown",
   "id": "6fc0540c",
   "metadata": {},
   "source": [
    "## Analyse bivariée"
   ]
  },
  {
   "cell_type": "markdown",
   "id": "adb0bce1",
   "metadata": {},
   "source": [
    "### Etudier la relation entre une variable qualitative et une variable quantitative"
   ]
  },
  {
   "cell_type": "markdown",
   "id": "009e9e22",
   "metadata": {},
   "source": [
    "La box plot est un type de visualisation fréquemment utilisé pour étudier comment deux variables, une qualitative et une quantitative, sont liées. La fonction [`sns.boxplot()`](https://seaborn.pydata.org/generated/seaborn.boxplot.html) permet ceci."
   ]
  },
  {
   "cell_type": "code",
   "execution_count": null,
   "id": "9d10657d",
   "metadata": {},
   "outputs": [],
   "source": [
    "# Quelles sont les distributions des âges selon si la personne\n",
    "# a survecu ou non? The box plot way!\n",
    "sns.boxplot(\n",
    "    data=data,\n",
    "    x=\"Survived\",\n",
    "    y=\"Age\",\n",
    "    showmeans=True # montrer les moyennes (False par défaut)\n",
    ")\n",
    "plt.title(\"Boxplot for Survived and Age\")\n",
    "plt.show()"
   ]
  },
  {
   "cell_type": "markdown",
   "id": "f792301b",
   "metadata": {},
   "source": [
    "Visualiser les distributions à travers des histograms peut etre aussi une autre manière d'étudier la relation entre une variable qualitative et une variable quantitative:"
   ]
  },
  {
   "cell_type": "code",
   "execution_count": null,
   "id": "f5b4d0bb",
   "metadata": {},
   "outputs": [],
   "source": [
    "# Distributions des âges en fonction des survivants\n",
    "sns.displot(\n",
    "    data=data,\n",
    "    x=\"Age\",\n",
    "    hue=\"Survived\",\n",
    "    kind=\"kde\",\n",
    "    fill=True # remplir les distributions\n",
    ")\n",
    "plt.title(\"Distributions of the Age according to Survived\")\n",
    "plt.show()"
   ]
  },
  {
   "cell_type": "markdown",
   "id": "031754f1",
   "metadata": {},
   "source": [
    "Les deux distributions se chevauchent presque. \n",
    "\n",
    "On remarque que parmi les personnes de moins de 20 ans, il y en a plus qui ont survécu que le contraire. On peut supposer que lors du sauvetage, la priorité a été donnée aux enfants ou adolescents.\n",
    "\n",
    "Parmi les passagers entre 20 et 45 ans, plus de personnes sont mortes.\n",
    "\n",
    "Peu de conclusions peuvent être tirées pour les personnes de plus de 60 ans."
   ]
  },
  {
   "cell_type": "markdown",
   "id": "b08aaa80",
   "metadata": {},
   "source": [
    "### Etudier la relation entre deux variables quantitatives"
   ]
  },
  {
   "cell_type": "markdown",
   "id": "24dbea79",
   "metadata": {},
   "source": [
    "Le scatter plot est le type de visualisation le plus utilisé pour étudier la relation entre 2 variables quantitatives. Il est facilement possible de créer un scatter plot avec [`sns.scatterplot()`](https://seaborn.pydata.org/generated/seaborn.scatterplot.html)."
   ]
  },
  {
   "cell_type": "code",
   "execution_count": null,
   "id": "9e4ed9bd",
   "metadata": {},
   "outputs": [],
   "source": [
    "# Scatter plot entre Age et Fare\n",
    "sns.scatterplot(\n",
    "    data=data,\n",
    "    x=\"Age\",\n",
    "    y=\"Fare\"\n",
    ")\n",
    "plt.title(\"Relationship between Age and Fare\")\n",
    "plt.show()"
   ]
  },
  {
   "cell_type": "markdown",
   "id": "0349eba5",
   "metadata": {},
   "source": [
    "Presque rien ne peut être utiliser à partir de ce scatter plot. Il ne semble pas y avoir de schémas intéressant."
   ]
  },
  {
   "cell_type": "markdown",
   "id": "cbc77008",
   "metadata": {},
   "source": [
    "### Etudier la relation entre deux variables qualitatives"
   ]
  },
  {
   "cell_type": "markdown",
   "id": "1b8d83d9",
   "metadata": {},
   "source": [
    "Un type de visualisation utile pour étudier la relation entre deux variables qualitatives est le **grouped bar chart**. La fonction [`sns.catplot()`](https://seaborn.pydata.org/generated/seaborn.catplot.html#) permet la création de ce type de visualisation."
   ]
  },
  {
   "cell_type": "code",
   "execution_count": null,
   "id": "8a67cd32",
   "metadata": {},
   "outputs": [],
   "source": [
    "# Comment varie le nombre d'hommes et de femmes parmi les \n",
    "# survivants et les non survivants?\n",
    "sns.catplot(\n",
    "    data=data,\n",
    "    x=\"Survived\",\n",
    "    hue=\"Sex\",\n",
    "    kind=\"count\" # on souhaite obtenir le count \n",
    ")\n",
    "plt.title(\"Grouped bar chart for Survived and Sex\")\n",
    "plt.show()"
   ]
  },
  {
   "cell_type": "markdown",
   "id": "6a7f31ae",
   "metadata": {},
   "source": [
    "La plupart des femmes ont survécu, alors que la plupart des hommes n'ont pas survécu. On peut supposer qu'en raison de la politique \"Les femmes d'abord\", la priorité a été donnée aux passagères plutôt qu'aux passagers."
   ]
  }
 ],
 "metadata": {
  "kernelspec": {
   "display_name": "Python 3 (ipykernel)",
   "language": "python",
   "name": "python3"
  },
  "language_info": {
   "codemirror_mode": {
    "name": "ipython",
    "version": 3
   },
   "file_extension": ".py",
   "mimetype": "text/x-python",
   "name": "python",
   "nbconvert_exporter": "python",
   "pygments_lexer": "ipython3",
   "version": "3.10.12"
  }
 },
 "nbformat": 4,
 "nbformat_minor": 5
}
